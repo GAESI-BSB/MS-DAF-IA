{
 "cells": [
  {
   "cell_type": "code",
   "execution_count": null,
   "metadata": {},
   "outputs": [],
   "source": [
    "!python -m spacy download \"pt_core_news_sm\""
   ]
  },
  {
   "cell_type": "code",
   "execution_count": 2,
   "metadata": {},
   "outputs": [],
   "source": [
    "# import psycopg2\n",
    "import pandas as pd\n",
    "import numpy as np\n",
    "import paramiko\n",
    "\n",
    "from pandas.io import sql as psql\n",
    "\n",
    "from tqdm import tqdm\n",
    "from tqdm._tqdm_notebook import tqdm_notebook # Beta\n",
    "\n",
    "# from pre_processing.pre_processing import BatchProcessing\n",
    "\n",
    "from zipfile import ZipFile\n",
    "from matplotlib import pyplot as plt\n",
    "\n",
    "tqdm_notebook.pandas()"
   ]
  },
  {
   "cell_type": "code",
   "execution_count": 26,
   "metadata": {},
   "outputs": [
    {
     "name": "stdout",
     "output_type": "stream",
     "text": [
      "columns text, document_id, label\n",
      "\n",
      "\tsize of test (3016, 3)\n",
      "\tsize of train (7035, 3)\n",
      "\tconcat size (10051, 3)\n",
      "\n"
     ]
    }
   ],
   "source": [
    "with ZipFile('data/Annotated_types.zip') as zip_dir:\n",
    "    df_test_dump = pd.read_csv(zip_dir.open('test_types-26-07-18.csv'))\n",
    "    df_train_dump = pd.read_csv(zip_dir.open('train_types-26-07-18.csv'))\n",
    "df = pd.concat([df_test_dump, df_train_dump], keys=['test', 'train'])\n",
    "print('columns {}\\n\\n\\tsize of test {}\\n\\tsize of train {}\\n\\tconcat size {}\\n'\n",
    "      .format(', '.join(df.columns), df_test_dump.shape, df_train_dump.shape, df.shape))"
   ]
  },
  {
   "cell_type": "code",
   "execution_count": 24,
   "metadata": {},
   "outputs": [],
   "source": [
    "def page_split(row):\n",
    "    split = row.text.split('-----------------')\n",
    "    if len(split) == 1:\n",
    "        split += [None]\n",
    "    elif len(split) > 2:\n",
    "        split = ['-----------------'.join(split), None]\n",
    "\n",
    "    return pd.Series([row.document_id, row.label] + split, index=['document_id', 'label', 'first_page', 'second_page'])"
   ]
  },
  {
   "cell_type": "code",
   "execution_count": 57,
   "metadata": {},
   "outputs": [],
   "source": [
    "def report_duplicated(df):\n",
    "    if 'text' in df:\n",
    "        df = df.apply(page_split, axis=1)\n",
    "    group_text = df.groupby(['first_page', ])\n",
    "    \n",
    "    new_df = group_text.apply(lambda x: pd.Series(\n",
    "        data=[x.shape[0], x.label.duplicated(keep=False).all(), x.label.tolist()],\n",
    "        index=['dup_count', 'label_conflict', 'labels'])\n",
    "    ).reset_index()\n",
    "        \n",
    "    docs = []\n",
    "    new_df[(new_df.dup_count > 1) & ~new_df.label_conflict].apply(lambda x: docs.append(x.first_page), axis=1)\n",
    "    df_label_free = df[~df.first_page.isin(docs)]\n",
    "        \n",
    "    total_count = new_df.dup_count.sum()\n",
    "    dups_count = new_df[new_df.dup_count > 1].dup_count.sum()\n",
    "    df_dups = df_label_free[df_label_free.duplicated('first_page', keep=False)]\n",
    "    df_free = df_label_free.drop_duplicates('first_page', keep='first')\n",
    "    count_labels = new_df[(new_df.dup_count > 1) & ~new_df.label_conflict]\n",
    "    \n",
    "    first_second = df.second_page.count()\n",
    "    \n",
    "    print('# total docs: ', total_count)\n",
    "    print('# docs duplicates: ', dups_count)\n",
    "    print('# docs with conflict labels: ', count_labels.dup_count.sum())\n",
    "    print('# docs keeping first: ', df_free.shape[0])\n",
    "    print('# estimate of 1+2 page using(\\\\n-----------------\\\\n): ', first_second)\n",
    "    \n",
    "    return total_count, dups_count, df_dups, df_free, count_labels, first_second"
   ]
  },
  {
   "cell_type": "code",
   "execution_count": 58,
   "metadata": {},
   "outputs": [
    {
     "name": "stdout",
     "output_type": "stream",
     "text": [
      "Teste 26/07\n",
      "# total docs:  3016\n",
      "# docs duplicates:  534\n",
      "# docs with conflict labels:  12\n",
      "# docs keeping first:  2645\n",
      "# estimate of 1+2 page using(\\n-----------------\\n):  133\n",
      "Free off duplication:  True\n"
     ]
    }
   ],
   "source": [
    "print('Teste 26/07')\n",
    "total_test, count_test, df_dups_test, df_test_free, test_labels_conflict, fs_test = report_duplicated(df_test_dump)\n",
    "print('Free off duplication: ', ~df_test_free.duplicated(['first_page', ], keep=False).any())"
   ]
  },
  {
   "cell_type": "code",
   "execution_count": 59,
   "metadata": {},
   "outputs": [
    {
     "name": "stdout",
     "output_type": "stream",
     "text": [
      "Train 26/07\n",
      "# total docs:  7035\n",
      "# docs duplicates:  1985\n",
      "# docs with conflict labels:  87\n",
      "# docs keeping first:  5692\n",
      "# estimate of 1+2 page using(\\n-----------------\\n):  311\n",
      "Free off duplication:  True\n"
     ]
    }
   ],
   "source": [
    "print('Train 26/07')\n",
    "total_train, count_train, df_dups_train, df_train_free, train_labels_conflict, fs_train = report_duplicated(df_train_dump)\n",
    "print('Free off duplication: ', ~df_train_free.duplicated('first_page', keep=False).any())"
   ]
  },
  {
   "cell_type": "code",
   "execution_count": 60,
   "metadata": {},
   "outputs": [
    {
     "name": "stdout",
     "output_type": "stream",
     "text": [
      "Concatenated 26/07\n",
      "# total docs:  8337\n",
      "# docs duplicates:  1114\n",
      "# docs with conflict labels:  36\n",
      "# docs keeping first:  7762\n",
      "# estimate of 1+2 page using(\\n-----------------\\n):  424\n",
      "Free off duplication:  True\n"
     ]
    }
   ],
   "source": [
    "print('Concatenated 26/07')\n",
    "df_dump = pd.concat([df_test_free, df_train_free], keys=['test', 'train'])\n",
    "total_dump, count_dump, df_dups_dump, df_dump_free, dump_labels_conflict, fs = report_duplicated(df_dump)\n",
    "print('Free off duplication: ', ~df_dump_free.duplicated('first_page', keep=False).any())"
   ]
  },
  {
   "cell_type": "code",
   "execution_count": 77,
   "metadata": {},
   "outputs": [
    {
     "data": {
      "text/plain": [
       "((7408, 2), (1056, 2), (2118, 2))"
      ]
     },
     "execution_count": 77,
     "metadata": {},
     "output_type": "execute_result"
    }
   ],
   "source": [
    "path_train='data/27-06-2018-Treino-Tag-pre-processed.csv'\n",
    "df_train = pd.read_csv(path_train, usecols=['label', 'text'])\n",
    "\n",
    "path_test='data/27-06-2018-Teste-Tag-pre-processed.csv'\n",
    "df_test = pd.read_csv(path_test, usecols=['label', 'text'])\n",
    "\n",
    "path_validation='data/27-06-2018-Validacao-Tag-pre-processed.csv'\n",
    "df_validation = pd.read_csv(path_validation, usecols=['label', 'text'])\n",
    "\n",
    "df_train.shape, df_test.shape, df_validation.shape"
   ]
  },
  {
   "cell_type": "code",
   "execution_count": 79,
   "metadata": {},
   "outputs": [
    {
     "name": "stdout",
     "output_type": "stream",
     "text": [
      "Train 27/06\n",
      "# total docs:  7408\n",
      "# docs duplicates:  2676\n",
      "# docs with conflict labels:  206\n",
      "# docs keeping first:  5621\n",
      "# estimate of 1+2 page using(\\n-----------------\\n):  385\n"
     ]
    }
   ],
   "source": [
    "print('Train 27/06')\n",
    "df_train['document_id'] = np.empty(df_train.index.size)\n",
    "total_train, count_train, df_dups_train, df_train_free, train_labels_conflict, fs_train = report_duplicated(df_train)"
   ]
  },
  {
   "cell_type": "code",
   "execution_count": 80,
   "metadata": {},
   "outputs": [
    {
     "name": "stdout",
     "output_type": "stream",
     "text": [
      "Validation 27/06\n",
      "# total docs:  2118\n",
      "# docs duplicates:  316\n",
      "# docs with conflict labels:  57\n",
      "# docs keeping first:  1898\n",
      "# estimate of 1+2 page using(\\n-----------------\\n):  143\n"
     ]
    }
   ],
   "source": [
    "print('Validation 27/06')\n",
    "df_validation['document_id'] = np.empty(df_validation.index.size)\n",
    "total_validation, count_validation, df_dups_validation, df_validation_free, validation_labels_conflict, fs_validation = report_duplicated(df_validation)"
   ]
  },
  {
   "cell_type": "code",
   "execution_count": 81,
   "metadata": {},
   "outputs": [
    {
     "name": "stdout",
     "output_type": "stream",
     "text": [
      "Test 27/06\n",
      "# total docs:  1056\n",
      "# docs duplicates:  99\n",
      "# docs with conflict labels:  4\n",
      "# docs keeping first:  987\n",
      "# estimate of 1+2 page using(\\n-----------------\\n):  6\n"
     ]
    }
   ],
   "source": [
    "print('Test 27/06')\n",
    "df_test['document_id'] = np.empty(df_test.index.size)\n",
    "total_test, count_test, df_dups_test, df_test_free, test_labels_conflict, fs_test = report_duplicated(df_test)"
   ]
  },
  {
   "cell_type": "code",
   "execution_count": 82,
   "metadata": {},
   "outputs": [
    {
     "name": "stdout",
     "output_type": "stream",
     "text": [
      "Concatenated 27/06\n",
      "# total docs:  8506\n",
      "# docs duplicates:  794\n",
      "# docs with conflict labels:  74\n",
      "# docs keeping first:  8057\n",
      "# estimate of 1+2 page using(\\n-----------------\\n):  514\n"
     ]
    }
   ],
   "source": [
    "print('Concatenated 27/06')\n",
    "df = pd.concat([df_train_free, df_validation_free, df_test_free], keys=['train', 'validation', 'test'])\n",
    "total, count, df_dups, df_free, labels_conflict, fs = report_duplicated(df)\n"
   ]
  },
  {
   "cell_type": "markdown",
   "metadata": {},
   "source": [
    "# Split dataset"
   ]
  },
  {
   "cell_type": "code",
   "execution_count": 83,
   "metadata": {},
   "outputs": [],
   "source": [
    "def split_dataset(df):\n",
    "    train = df.groupby('label', group_keys=False).apply(lambda x: x.sample(frac=0.7))\n",
    "    rest = df[~df.index.isin(train.index)]\n",
    "    validation = rest.groupby('label', group_keys=False).apply(lambda x: x.sample(frac=2.0/3.0))\n",
    "    test = rest[~rest.index.isin(validation.index)]\n",
    "    # Assert that datasets hasn't shared data\n",
    "    assert not pd.concat([train, test, validation]).duplicated(['first_page'], keep=False).any()\n",
    "    \n",
    "    counts = df.label.value_counts()\n",
    "    data = np.array([counts, train.label.value_counts(), validation.label.value_counts(), test.label.value_counts(), counts.index])\n",
    "    inds = np.arange(counts.size)\n",
    "    plt.bar(inds - 0.2, data[0], width=0.5)\n",
    "    plt.bar(inds - 0.1, data[1], width=0.5)\n",
    "    plt.bar(inds + 0.1, data[2], width=0.5)\n",
    "    plt.bar(inds + 0.2, data[3], width=0.5)\n",
    "    plt.xticks(inds, counts.index)\n",
    "\n",
    "    return data, train, validation, test\n",
    "    "
   ]
  },
  {
   "cell_type": "code",
   "execution_count": 84,
   "metadata": {},
   "outputs": [
    {
     "data": {
      "text/plain": [
       "array([[2676, 1777, 1130, 997, 616, 566],\n",
       "       [1873, 1244, 791, 698, 431, 396],\n",
       "       [535, 355, 226, 199, 123, 113],\n",
       "       [268, 178, 113, 100, 62, 57],\n",
       "       ['Outro', 'ARE', 'Sent.', 'Acordão', 'RE', 'Desp.']], dtype=object)"
      ]
     },
     "execution_count": 84,
     "metadata": {},
     "output_type": "execute_result"
    },
    {
     "data": {
      "image/png": "[encoded data removed]",
      "text/plain": [
       "<Figure size 432x288 with 1 Axes>"
      ]
     },
     "metadata": {},
     "output_type": "display_data"
    }
   ],
   "source": [
    "_, dump_train, dump_validation, dump_test = split_dataset(df_dump_free)\n",
    "_"
   ]
  },
  {
   "cell_type": "code",
   "execution_count": 85,
   "metadata": {},
   "outputs": [],
   "source": [
    "dump_train.to_csv('data/train-26-07-2018-wo-duplicates.csv', index=False)\n",
    "\n",
    "dump_validation.to_csv('data/validation-26-07-2018-wo-duplicates.csv', index=False)\n",
    "\n",
    "dump_test.to_csv('data/test-26-07-2018-wo-duplicates.csv', index=False)"
   ]
  },
  {
   "cell_type": "code",
   "execution_count": 87,
   "metadata": {},
   "outputs": [
    {
     "data": {
      "text/plain": [
       "array([[3424, 1274, 1128, 973, 615, 562, 59, 22],\n",
       "       [2397, 892, 790, 681, 430, 393, 41, 15],\n",
       "       [685, 255, 225, 195, 123, 113, 12, 5],\n",
       "       [342, 127, 113, 97, 62, 56, 6, 2],\n",
       "       ['Outro', 'ARE', 'Sent.', 'Acordao', 'RE', 'Desp.', 'P. Agrav',\n",
       "        'D. Agrav']], dtype=object)"
      ]
     },
     "execution_count": 87,
     "metadata": {},
     "output_type": "execute_result"
    },
    {
     "data": {
      "image/png": "[encoded data removed]",
      "text/plain": [
       "<Figure size 432x288 with 1 Axes>"
      ]
     },
     "metadata": {},
     "output_type": "display_data"
    }
   ],
   "source": [
    "_, train, validation, test = split_dataset(df_free)\n",
    "_"
   ]
  },
  {
   "cell_type": "code",
   "execution_count": 88,
   "metadata": {},
   "outputs": [],
   "source": [
    "train.to_csv('data/train-27-06-2018-wo-duplicates.csv', index=False)\n",
    "\n",
    "validation.to_csv('data/validation-27-06-2018-wo-duplicates.csv', index=False)\n",
    "\n",
    "test.to_csv('data/test-27-06-2018-wo-duplicates.csv', index=False)"
   ]
  },
  {
   "cell_type": "markdown",
   "metadata": {},
   "source": [
    "# Validation on Database to LegalLabs"
   ]
  },
  {
   "cell_type": "code",
   "execution_count": 2,
   "metadata": {},
   "outputs": [],
   "source": [
    "# with ZipFile('/home/isis/Annotated_types.zip') as zip_dir:\n",
    "#     df_test = pd.read_csv(zip_dir.open('test_types-26-07-18.csv'))\n",
    "#     df_train = pd.read_csv(zip_dir.open('train_types-26-07-18.csv'))\n",
    "# df = pd.concat([df_test, df_train])\n",
    "# df.shape"
   ]
  },
  {
   "cell_type": "code",
   "execution_count": 3,
   "metadata": {},
   "outputs": [],
   "source": [
    "# texts = df.progress_apply(page_split, axis=1).sort_values('document_id')\n",
    "# texts.head()"
   ]
  },
  {
   "cell_type": "code",
   "execution_count": 4,
   "metadata": {
    "scrolled": true
   },
   "outputs": [],
   "source": [
    "# for idx, doc in texts[~texts.second_page.isnull()].iterrows():\n",
    "#     print('############', idx, '#############\\n', doc.first_page, '--------\\n', doc.second_page)"
   ]
  },
  {
   "cell_type": "code",
   "execution_count": 5,
   "metadata": {},
   "outputs": [],
   "source": [
    "# DSN = \"dbname=postgres user=postgres host=toth.lades.unb.br\""
   ]
  },
  {
   "cell_type": "code",
   "execution_count": 6,
   "metadata": {
    "scrolled": false
   },
   "outputs": [],
   "source": [
    "# # pages.index = pdfs_documents.page_to - pdfs_documents.page_from\n",
    "# QUERY = \"\"\"\n",
    "# SELECT documents.id as document_id, pages.index as page, pages.body as text FROM documents\n",
    "#     INNER JOIN pages ON documents.id = pages.document_id\n",
    "#     INNER JOIN pdfs_documents ON documents.id = pdfs_documents.document_id\n",
    "#     WHERE (\n",
    "#         (pages.body = %s AND pages.index = 0)\n",
    "#         OR\n",
    "#         (pages.body = %s AND pages.index = 1)\n",
    "#     )\n",
    "#     ORDER BY documents.id, pages.index;\n",
    "# \"\"\"\n",
    "\n",
    "# docs = []\n",
    "# with psycopg2.connect(DSN) as con:\n",
    "#     with con.cursor() as cur:\n",
    "#         for doc in tqdm(texts.apply(lambda x: (x.first_page, x.second_page), axis=1)):\n",
    "#             query = cur.mogrify(QUERY, doc)\n",
    "# #             df_sql = psql.read_sql(QUERY, con)\n",
    "#             cur.execute(query)\n",
    "#             for row in cur.fetchall():\n",
    "#                 docs.append(row)"
   ]
  },
  {
   "cell_type": "code",
   "execution_count": 7,
   "metadata": {
    "scrolled": true
   },
   "outputs": [],
   "source": [
    "# # pd.DataFrame(docs, columns=['document_id', 'page', 'text']).to_csv('/home/isis/dump_pages.csv', index=False)\n",
    "# docs = pd.read_csv('/home/isis/dump_pages.csv')\n",
    "# docs"
   ]
  },
  {
   "cell_type": "code",
   "execution_count": 8,
   "metadata": {},
   "outputs": [],
   "source": [
    "# def pages_to_columns(document):\n",
    "#     unique_documents = document.drop_duplicates(['document_id', 'page'], keep='first')\n",
    "#     pages = unique_documents.text.tolist()\n",
    "#     if len(pages) == 1:\n",
    "#         pages += [None]\n",
    "#     elif len(pages) == 2:\n",
    "#         pass\n",
    "#     else:\n",
    "#         print(pages)\n",
    "#     return pd.Series(pages, index=['first_page', 'second_page'])"
   ]
  },
  {
   "cell_type": "code",
   "execution_count": 9,
   "metadata": {},
   "outputs": [],
   "source": [
    "# ndocs = docs.groupby('document_id').progress_apply(pages_to_columns).reset_index()\n",
    "\n",
    "# texts = df_dump_free.progress_apply(page_split, axis=1)"
   ]
  },
  {
   "cell_type": "code",
   "execution_count": 10,
   "metadata": {},
   "outputs": [],
   "source": [
    "# display(ndocs.head())\n",
    "# display(ndocs.shape)\n",
    "# display(texts.head())\n",
    "# display(texts.shape)"
   ]
  },
  {
   "cell_type": "code",
   "execution_count": 11,
   "metadata": {
    "scrolled": true
   },
   "outputs": [],
   "source": [
    "# texts[texts.first_page.isin(ndocs.first_page)]"
   ]
  },
  {
   "cell_type": "code",
   "execution_count": null,
   "metadata": {},
   "outputs": [],
   "source": []
  }
 ],
 "metadata": {
  "kernelspec": {
   "display_name": "Python 3",
   "language": "python",
   "name": "python3"
  },
  "language_info": {
   "codemirror_mode": {
    "name": "ipython",
    "version": 3
   },
   "file_extension": ".py",
   "mimetype": "text/x-python",
   "name": "python",
   "nbconvert_exporter": "python",
   "pygments_lexer": "ipython3",
   "version": "3.7.0"
  },
  "toc": {
   "base_numbering": 1,
   "nav_menu": {},
   "number_sections": false,
   "sideBar": true,
   "skip_h1_title": false,
   "title_cell": "Table of Contents",
   "title_sidebar": "Contents",
   "toc_cell": false,
   "toc_position": {},
   "toc_section_display": true,
   "toc_window_display": false
  }
 },
 "nbformat": 4,
 "nbformat_minor": 2
}
