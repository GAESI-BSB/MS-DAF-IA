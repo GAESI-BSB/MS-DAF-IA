{
 "cells": [
  {
   "cell_type": "markdown",
   "metadata": {
    "slideshow": {
     "slide_type": "slide"
    }
   },
   "source": [
    "# Piece classification\n",
    "\n",
    "\n",
    "## Data\n",
    "\n",
    "Labelized by challenger\n",
    "\n",
    "|column|value|\n",
    "|------|-----|\n",
    "|document_id|Document id in database|\n",
    "|first_page|Only the text content of first page for each document|\n",
    "|label|Label of especialists|\n",
    "\n",
    "Dump date\n",
    "\n",
    "* 27-06-2018\n",
    "* 26-06-2018\n",
    "\n",
    "Dataset's proportions:\n",
    "\n",
    "* 70% train\n",
    "* 20% validation\n",
    "* 10% test\n",
    "\n",
    "## Configuração\n",
    "\n",
    " \n",
    "* pip3 install sklearn;\n",
    "* pip3 install seaborn;\n",
    "* pip3 install matplotlib;\n",
    "* pip3 install pandas;\n",
    "* pip3 install numpy;\n",
    "* pip3 install paramiko;\n",
    "* pip3 install jupyter notebook;\n",
    "* pip3 install joblib;\n",
    "* pip3 install tensorflow\n",
    "* pip3 install keras"
   ]
  },
  {
   "cell_type": "markdown",
   "metadata": {
    "slideshow": {
     "slide_type": "skip"
    }
   },
   "source": [
    "# Imports"
   ]
  },
  {
   "cell_type": "code",
   "execution_count": 2,
   "metadata": {
    "slideshow": {
     "slide_type": "skip"
    }
   },
   "outputs": [
    {
     "ename": "SyntaxError",
     "evalue": "invalid syntax (pywrap_tensorflow_internal.py, line 114)",
     "output_type": "error",
     "traceback": [
      "Traceback \u001b[0;36m(most recent call last)\u001b[0m:\n",
      "  File \u001b[1;32m\"/usr/local/lib/python3.7/site-packages/IPython/core/interactiveshell.py\"\u001b[0m, line \u001b[1;32m2963\u001b[0m, in \u001b[1;35mrun_code\u001b[0m\n    exec(code_obj, self.user_global_ns, self.user_ns)\n",
      "  File \u001b[1;32m\"<ipython-input-2-071b5af5fd1b>\"\u001b[0m, line \u001b[1;32m9\u001b[0m, in \u001b[1;35m<module>\u001b[0m\n    import tensorflow as tf\n",
      "  File \u001b[1;32m\"/usr/local/lib/python3.7/site-packages/tensorflow/__init__.py\"\u001b[0m, line \u001b[1;32m22\u001b[0m, in \u001b[1;35m<module>\u001b[0m\n    from tensorflow.python import pywrap_tensorflow  # pylint: disable=unused-import\n",
      "  File \u001b[1;32m\"/usr/local/lib/python3.7/site-packages/tensorflow/python/__init__.py\"\u001b[0m, line \u001b[1;32m49\u001b[0m, in \u001b[1;35m<module>\u001b[0m\n    from tensorflow.python import pywrap_tensorflow\n",
      "\u001b[0;36m  File \u001b[0;32m\"/usr/local/lib/python3.7/site-packages/tensorflow/python/pywrap_tensorflow.py\"\u001b[0;36m, line \u001b[0;32m58\u001b[0;36m, in \u001b[0;35m<module>\u001b[0;36m\u001b[0m\n\u001b[0;31m    from tensorflow.python.pywrap_tensorflow_internal import *\u001b[0m\n",
      "\u001b[0;36m  File \u001b[0;32m\"/usr/local/lib/python3.7/site-packages/tensorflow/python/pywrap_tensorflow_internal.py\"\u001b[0;36m, line \u001b[0;32m114\u001b[0m\n\u001b[0;31m    def TFE_ContextOptionsSetAsync(arg1, async):\u001b[0m\n\u001b[0m                                             ^\u001b[0m\n\u001b[0;31mSyntaxError\u001b[0m\u001b[0;31m:\u001b[0m invalid syntax\n"
     ]
    }
   ],
   "source": [
    "import pandas as pd\n",
    "import seaborn as sns\n",
    "import matplotlib.pyplot as plt\n",
    "import spacy as sp\n",
    "import numpy as np\n",
    "import paramiko\n",
    "import os\n",
    "import multiprocessing\n",
    "import tensorflow as tf\n",
    "import joblib\n",
    "\n",
    "from keras.utils import multi_gpu_model\n",
    "from keras.utils import np_utils, to_categorical, plot_model\n",
    "from keras.models import Sequential, load_model, Model\n",
    "from keras.engine import Input\n",
    "from keras.layers import (\n",
    "    Embedding, BatchNormalization,\n",
    "    LSTM, SimpleRNN, GRU, RNN, CuDNNLSTM,\n",
    "    Conv1D, MaxPooling1D,\n",
    "    Bidirectional, Concatenate, merge,\n",
    "    Dense, Flatten, Dropout, Activation, Lambda, Reshape\n",
    ")\n",
    "from keras.preprocessing import sequence\n",
    "from keras.preprocessing.text import Tokenizer\n",
    "from keras.callbacks import EarlyStopping, TerminateOnNaN, TensorBoard\n",
    "from keras.backend.tensorflow_backend import set_session\n",
    "from keras.metrics import categorical_accuracy, binary_accuracy\n",
    "\n",
    "from sklearn.preprocessing import LabelBinarizer, LabelEncoder\n",
    "from sklearn.feature_extraction.text import TfidfVectorizer, CountVectorizer\n",
    "from sklearn.metrics import (\n",
    "    accuracy_score, classification_report,\n",
    "    confusion_matrix, precision_score,\n",
    "    recall_score, precision_recall_fscore_support, f1_score\n",
    ")\n",
    "from sklearn.model_selection import GridSearchCV\n",
    "from sklearn.svm import SVC\n",
    "from sklearn.neighbors import KNeighborsClassifier\n",
    "from sklearn.utils import class_weight\n",
    "from sklearn.naive_bayes import MultinomialNB\n",
    "from sklearn.neural_network import MLPClassifier\n",
    "from sklearn.tree import DecisionTreeClassifier\n",
    "\n",
    "from nltk.corpus import stopwords\n",
    "from scipy.special import comb\n",
    "\n",
    "from tqdm import tqdm\n",
    "\n",
    "from IPython.display import display, HTML"
   ]
  },
  {
   "cell_type": "code",
   "execution_count": 3,
   "metadata": {},
   "outputs": [
    {
     "ename": "NameError",
     "evalue": "name 'tf' is not defined",
     "output_type": "error",
     "traceback": [
      "\u001b[0;31m---------------------------------------------------------------------------\u001b[0m",
      "\u001b[0;31mNameError\u001b[0m                                 Traceback (most recent call last)",
      "\u001b[0;32m<ipython-input-3-f57e76533fc9>\u001b[0m in \u001b[0;36m<module>\u001b[0;34m()\u001b[0m\n\u001b[0;32m----> 1\u001b[0;31m \u001b[0mconfig\u001b[0m \u001b[0;34m=\u001b[0m \u001b[0mtf\u001b[0m\u001b[0;34m.\u001b[0m\u001b[0mConfigProto\u001b[0m\u001b[0;34m(\u001b[0m\u001b[0;34m)\u001b[0m\u001b[0;34m\u001b[0m\u001b[0m\n\u001b[0m\u001b[1;32m      2\u001b[0m \u001b[0mconfig\u001b[0m\u001b[0;34m.\u001b[0m\u001b[0mgpu_options\u001b[0m\u001b[0;34m.\u001b[0m\u001b[0mallow_growth\u001b[0m \u001b[0;34m=\u001b[0m \u001b[0;32mTrue\u001b[0m  \u001b[0;31m# dynamically grow the memory used on the GPU\u001b[0m\u001b[0;34m\u001b[0m\u001b[0m\n\u001b[1;32m      3\u001b[0m \u001b[0mconfig\u001b[0m\u001b[0;34m.\u001b[0m\u001b[0mlog_device_placement\u001b[0m \u001b[0;34m=\u001b[0m \u001b[0;32mTrue\u001b[0m  \u001b[0;31m# to log device placement (on which device the operation ran)\u001b[0m\u001b[0;34m\u001b[0m\u001b[0m\n\u001b[1;32m      4\u001b[0m                                     \u001b[0;31m# (nothing gets printed in Jupyter, only if you run it standalone)\u001b[0m\u001b[0;34m\u001b[0m\u001b[0;34m\u001b[0m\u001b[0m\n\u001b[1;32m      5\u001b[0m \u001b[0msess\u001b[0m \u001b[0;34m=\u001b[0m \u001b[0mtf\u001b[0m\u001b[0;34m.\u001b[0m\u001b[0mSession\u001b[0m\u001b[0;34m(\u001b[0m\u001b[0mconfig\u001b[0m\u001b[0;34m=\u001b[0m\u001b[0mconfig\u001b[0m\u001b[0;34m)\u001b[0m\u001b[0;34m\u001b[0m\u001b[0m\n",
      "\u001b[0;31mNameError\u001b[0m: name 'tf' is not defined"
     ]
    }
   ],
   "source": [
    "config = tf.ConfigProto()\n",
    "config.gpu_options.allow_growth = True  # dynamically grow the memory used on the GPU\n",
    "config.log_device_placement = True  # to log device placement (on which device the operation ran)\n",
    "                                    # (nothing gets printed in Jupyter, only if you run it standalone)\n",
    "sess = tf.Session(config=config)\n",
    "set_session(sess)  # set this TensorFlow session as the default session for Keras"
   ]
  },
  {
   "cell_type": "markdown",
   "metadata": {},
   "source": [
    "# Models"
   ]
  },
  {
   "cell_type": "markdown",
   "metadata": {},
   "source": [
    "Assure the model dir exist"
   ]
  },
  {
   "cell_type": "code",
   "execution_count": 1,
   "metadata": {},
   "outputs": [],
   "source": [
    "model_path = '~/Projects/ai/stf_fga/peca_models/'"
   ]
  },
  {
   "cell_type": "code",
   "execution_count": 4,
   "metadata": {},
   "outputs": [],
   "source": [
    "def save_model(model, model_name=None):\n",
    "    if not os.path.exists(model_path):\n",
    "        os.mkdir(model_path)\n",
    "    if model_name == None:\n",
    "        model_name = 'model-'+ '-'.join([x['class_name'][:3] for x in model.get_config()]) + '.h5'\n",
    "        model_name = model_name.lower()\n",
    "    path = os.path.join(model_path, model_name)\n",
    "    model.save(path)"
   ]
  },
  {
   "cell_type": "markdown",
   "metadata": {},
   "source": [
    "# Dataset"
   ]
  },
  {
   "cell_type": "code",
   "execution_count": 5,
   "metadata": {
    "slideshow": {
     "slide_type": "slide"
    }
   },
   "outputs": [],
   "source": [
    "# # import json from NAS\n",
    "# host = \"nas.lades.unb.br\"\n",
    "# port = 22\n",
    "# transport = paramiko.Transport((host, port))\n",
    "\n",
    "# password=\"L@desehet\"\n",
    "# username=\"hehet\"\n",
    "# transport.connect(username=username, password=password)\n",
    "# sftp = paramiko.SFTPClient.from_transport(transport)"
   ]
  },
  {
   "cell_type": "code",
   "execution_count": 6,
   "metadata": {
    "slideshow": {
     "slide_type": "skip"
    }
   },
   "outputs": [],
   "source": [
    "# path_train='/mnt/lvm/lvm_array2/lvm101_GPAM/Pecas/27-06-2018/27-06-2018-Treino-Tag-pre-processed.csv'\n",
    "# file_csv = sftp.file(path_train)\n",
    "# train = pd.read_csv(file_csv, usecols=['label', 'text', 'text_pre_processed'])\n",
    "\n",
    "# path_test='/mnt/lvm/lvm_array2/lvm101_GPAM/Pecas/27-06-2018/27-06-2018-Teste-Tag-pre-processed.csv'\n",
    "# file_csv = sftp.file(path_test)\n",
    "# test = pd.read_csv(file_csv, usecols=['label', 'text', 'text_pre_processed'])\n",
    "\n",
    "# path_validation='/mnt/lvm/lvm_array2/lvm101_GPAM/Pecas/27-06-2018/27-06-2018-Validacao-Tag-pre-processed.csv'\n",
    "# file_csv = sftp.file(path_validation)\n",
    "# validation = pd.read_csv(file_csv, usecols=['label', 'text', 'text_pre_processed'])\n",
    "\n",
    "train = pd.read_csv('data/train-27-06-2018-wo-duplicates.csv')\n",
    "validation = pd.read_csv('data/validation-27-06-2018-wo-duplicates.csv')\n",
    "test = pd.read_csv('data/test-27-06-2018-wo-duplicates.csv')"
   ]
  },
  {
   "cell_type": "code",
   "execution_count": 7,
   "metadata": {
    "scrolled": false,
    "slideshow": {
     "slide_type": "slide"
    }
   },
   "outputs": [
    {
     "name": "stdout",
     "output_type": "stream",
     "text": [
      "Train\n",
      "ARE         892\n",
      "Acordao     681\n",
      "Desp.       393\n",
      "Outro      2397\n",
      "RE          430\n",
      "Sent.       790\n",
      "Name: label, dtype: int64\n",
      "\n",
      "Validation\n",
      "ARE        255\n",
      "Acordao    195\n",
      "Desp.      113\n",
      "Outro      685\n",
      "RE         123\n",
      "Sent.      225\n",
      "Name: label, dtype: int64\n",
      "\n",
      "Teste\n",
      "ARE        127\n",
      "Acordao     97\n",
      "Desp.       56\n",
      "Outro      342\n",
      "RE          62\n",
      "Sent.      113\n",
      "Name: label, dtype: int64\n",
      "\n",
      "Total\n",
      "ARE        1274\n",
      "Acordao     973\n",
      "Desp.       562\n",
      "Outro      3424\n",
      "RE          615\n",
      "Sent.      1128\n",
      "Name: label, dtype: int64\n",
      "\n",
      "Count:  7976\n"
     ]
    }
   ],
   "source": [
    "train = train[(train.label != 'D. Agrav') & (train.label != 'P. Agrav')]\n",
    "test = test[(test.label != 'D. Agrav') & (test.label != 'P. Agrav')]\n",
    "validation = validation[(validation.label != 'D. Agrav') & (validation.label != 'P. Agrav')]\n",
    "\n",
    "labels_index = train.label.value_counts().index.sort_values()\n",
    "\n",
    "label_train = train.label.value_counts()[labels_index]\n",
    "label_validation = validation.label.value_counts()[labels_index]\n",
    "label_test = test.label.value_counts()[labels_index]\n",
    "labels = (test.label.value_counts() + validation.label.value_counts() + train.label.value_counts())[labels_index]\n",
    "print(\"Train\")\n",
    "print(label_train[labels_index])\n",
    "print(\"\\nValidation\")\n",
    "print(label_validation[labels_index])\n",
    "print(\"\\nTeste\")\n",
    "print(label_test[labels_index])\n",
    "print(\"\\nTotal\")\n",
    "print(labels)\n",
    "print(\"\\nCount: \", labels.sum())"
   ]
  },
  {
   "cell_type": "code",
   "execution_count": 8,
   "metadata": {
    "slideshow": {
     "slide_type": "skip"
    }
   },
   "outputs": [
    {
     "data": {
      "image/png": "[encoded data removed]",
      "text/plain": [
       "<Figure size 432x288 with 1 Axes>"
      ]
     },
     "metadata": {},
     "output_type": "display_data"
    }
   ],
   "source": [
    "ind = np.arange(labels_index.size)\n",
    "labels_legend = ['total', 'train', 'validation', 'test']\n",
    "width = 0.16\n",
    "plt.bar(ind + 0, labels, width=width)\n",
    "plt.bar(ind + 0.1, label_train, width=width)\n",
    "plt.bar(ind + 0.2, label_validation, width=width)\n",
    "plt.bar(ind + 0.3, label_test, width=width)\n",
    "x = plt.xticks(ind, labels_index)\n",
    "\n",
    "#     plots.append(plot)\n",
    "# plt.legend(plot, labels)\n"
   ]
  },
  {
   "cell_type": "code",
   "execution_count": 9,
   "metadata": {
    "slideshow": {
     "slide_type": "slide"
    }
   },
   "outputs": [],
   "source": [
    "# Plot\n",
    "# fig = plt.figure(figsize=(15,10))\n",
    "# plot_train = fig.add_subplot(2, 2, 1, title=\"Train\")\n",
    "# plot_test = fig.add_subplot(2, 2, 2, title=\"Test\")\n",
    "# plot_validation = fig.add_subplot(2, 2, 3, title=\"Validation\")\n",
    "# sns.countplot(train['label'], ax=plot_train)\n",
    "# sns.countplot(test['label'], ax=plot_test)\n",
    "# x = sns.countplot(validation['label'], ax=plot_validation)"
   ]
  },
  {
   "cell_type": "code",
   "execution_count": 10,
   "metadata": {
    "slideshow": {
     "slide_type": "skip"
    }
   },
   "outputs": [],
   "source": [
    "# Plot\n",
    "# plt.figure(figsize=(10,10));   \n",
    "# sns.countplot(train['label'])\n",
    "# plt.show()\n",
    "\n",
    "# plt.figure(figsize=(10,10));   \n",
    "# sns.countplot(test['label'])\n",
    "# plt.show()\n",
    "\n",
    "# plt.figure(figsize=(10,10));   \n",
    "# sns.countplot(validation['label'])\n",
    "# plt.show()"
   ]
  },
  {
   "cell_type": "markdown",
   "metadata": {},
   "source": [
    "# Network params"
   ]
  },
  {
   "cell_type": "code",
   "execution_count": 11,
   "metadata": {
    "slideshow": {
     "slide_type": "slide"
    }
   },
   "outputs": [],
   "source": [
    "# Macro feactures\n",
    "# MAX_FEATURES = 10000\n",
    "MAX_FEATURES = 70000  # Size of vocabulary\n",
    "EMBEDDING_DIM = MAX_FEATURES  # Size of vocabulary\n",
    "SEQUENCE_LEN = 2000 # Size of input arrays\n",
    "#SEQUENCE_LEN = 100\n",
    "BATCH_SIZE = 32  # Base multiplier to batch train data\n",
    "NB_CLASS = train.label.unique().size  # Number of output classes\n",
    "UNITS = 100  # Number of output cells for Recurrent Models\n",
    "EMBEDDING_OUT = 100  # Output dim of embedding\n",
    "EPOCHS = 5  # Number of rounds"
   ]
  },
  {
   "cell_type": "markdown",
   "metadata": {},
   "source": [
    "## Stop early"
   ]
  },
  {
   "cell_type": "code",
   "execution_count": 12,
   "metadata": {},
   "outputs": [],
   "source": [
    "early_stop = EarlyStopping(patience=3, min_delta=0.01, verbose=1, monitor='val_acc')\n",
    "# board = TensorBoard(log_dir='./log')\n",
    "callbacks = [early_stop, ]"
   ]
  },
  {
   "cell_type": "markdown",
   "metadata": {},
   "source": [
    "# Data transform"
   ]
  },
  {
   "cell_type": "markdown",
   "metadata": {},
   "source": [
    "## X values"
   ]
  },
  {
   "cell_type": "code",
   "execution_count": 13,
   "metadata": {
    "slideshow": {
     "slide_type": "skip"
    }
   },
   "outputs": [
    {
     "name": "stdout",
     "output_type": "stream",
     "text": [
      "Vocabulary size:\n",
      "\tnon processed 50107\n"
     ]
    }
   ],
   "source": [
    "# Tokenize x axis\n",
    "print('Vocabulary size:')\n",
    "\n",
    "tokenizer = Tokenizer(num_words=MAX_FEATURES)\n",
    "tokenizer.fit_on_texts(train['first_page'])\n",
    "sequences_train = tokenizer.texts_to_sequences(train['first_page'])\n",
    "sequences_validation = tokenizer.texts_to_sequences(validation['first_page'])\n",
    "sequences_test = tokenizer.texts_to_sequences(test['first_page'])\n",
    "print('\\tnon processed', len(tokenizer.word_counts))\n",
    "\n",
    "# tokenizer = Tokenizer(num_words=MAX_FEATURES)\n",
    "# tokenizer.fit_on_texts(train['text_pre_processed'])\n",
    "# sequences_train_processed = tokenizer.texts_to_sequences(train['text_pre_processed'])\n",
    "# sequences_validation_processed = tokenizer.texts_to_sequences(validation['text_pre_processed'])\n",
    "# sequences_test_processed = tokenizer.texts_to_sequences(test['text_pre_processed'])\n",
    "# print('\\tprocessed', len(tokenizer.word_counts))"
   ]
  },
  {
   "cell_type": "code",
   "execution_count": 14,
   "metadata": {},
   "outputs": [
    {
     "data": {
      "text/plain": [
       "['/home/marcelohpf/unb/tcc/models/text-tokenizer.pkl']"
      ]
     },
     "execution_count": 14,
     "metadata": {},
     "output_type": "execute_result"
    }
   ],
   "source": [
    "if not os.path.exists(model_path):\n",
    "    os.mkdir(model_path)\n",
    "joblib.dump(tokenizer, os.path.join(model_path, 'text-tokenizer.pkl'))"
   ]
  },
  {
   "cell_type": "markdown",
   "metadata": {},
   "source": [
    "### Padding"
   ]
  },
  {
   "cell_type": "code",
   "execution_count": 15,
   "metadata": {
    "slideshow": {
     "slide_type": "skip"
    }
   },
   "outputs": [
    {
     "name": "stdout",
     "output_type": "stream",
     "text": [
      "Pad sequences (samples x time)\n",
      "\tNon processed\n",
      "\t\tX_train shape: (5583, 2000)\n",
      "\t\tX_test shape: (797, 2000)\n",
      "\t\tX_validation shape: (1596, 2000)\n"
     ]
    }
   ],
   "source": [
    "# Equalizing the len of matriz\n",
    "print('Pad sequences (samples x time)')\n",
    "X_train = sequence.pad_sequences(sequences_train, maxlen=SEQUENCE_LEN, padding='post')\n",
    "X_test = sequence.pad_sequences(sequences_test, maxlen=SEQUENCE_LEN, padding='post')\n",
    "X_validation = sequence.pad_sequences(sequences_validation, maxlen=SEQUENCE_LEN, padding='post')\n",
    "\n",
    "# X_train_processed = sequence.pad_sequences(sequences_train_processed, maxlen=SEQUENCE_LEN, padding='post')\n",
    "# X_test_processed = sequence.pad_sequences(sequences_test_processed, maxlen=SEQUENCE_LEN, padding='post')\n",
    "# X_validation_processed = sequence.pad_sequences(sequences_validation_processed, maxlen=SEQUENCE_LEN, padding='post')\n",
    "\n",
    "print('\\tNon processed')\n",
    "print('\\t\\tX_train shape:', X_train.shape)\n",
    "print('\\t\\tX_test shape:', X_test.shape)\n",
    "print('\\t\\tX_validation shape:', X_validation.shape)\n",
    "\n",
    "# print(\"\\tProcessed\")\n",
    "# print('\\t\\tX_train shape:', X_train_processed.shape)\n",
    "# print('\\t\\tX_test shape:', X_test_processed.shape)\n",
    "# print('\\t\\tX_validation shape:', X_validation_processed.shape)"
   ]
  },
  {
   "cell_type": "markdown",
   "metadata": {},
   "source": [
    "## Signal form"
   ]
  },
  {
   "cell_type": "code",
   "execution_count": 16,
   "metadata": {
    "slideshow": {
     "slide_type": "slide"
    }
   },
   "outputs": [
    {
     "name": "stdout",
     "output_type": "stream",
     "text": [
      "mean: 265.20 +- 117.51\n",
      "max:  1029\n",
      "min:  30\n",
      "median:  239.0\n"
     ]
    },
    {
     "data": {
      "image/png": "[encoded data removed]",
      "text/plain": [
       "<Figure size 432x288 with 1 Axes>"
      ]
     },
     "metadata": {},
     "output_type": "display_data"
    }
   ],
   "source": [
    "signal_sizes = np.count_nonzero(X_train, axis=1)\n",
    "bigger_signal = signal_sizes.argmax()\n",
    "plt.plot(X_train[bigger_signal])\n",
    "print(\"mean: {:.2f} +- {:.2f}\".format(np.mean(signal_sizes), np.std(signal_sizes)))\n",
    "print(\"max: \", np.max(signal_sizes))\n",
    "print(\"min: \", np.min(signal_sizes))\n",
    "print(\"median: \", np.median(signal_sizes))"
   ]
  },
  {
   "cell_type": "markdown",
   "metadata": {},
   "source": [
    "## Labels"
   ]
  },
  {
   "cell_type": "code",
   "execution_count": 17,
   "metadata": {
    "slideshow": {
     "slide_type": "skip"
    }
   },
   "outputs": [
    {
     "data": {
      "text/plain": [
       "array(['ARE', 'Acordao', 'Desp.', 'Outro', 'RE', 'Sent.'], dtype='<U7')"
      ]
     },
     "execution_count": 17,
     "metadata": {},
     "output_type": "execute_result"
    }
   ],
   "source": [
    "# Label the y axis\n",
    "\n",
    "lb = LabelBinarizer()\n",
    "Y_train = lb.fit_transform(train['label'])\n",
    "Y_test = lb.transform(test['label'])\n",
    "Y_validation = lb.transform(validation['label'])\n",
    "lb.classes_"
   ]
  },
  {
   "cell_type": "code",
   "execution_count": 18,
   "metadata": {},
   "outputs": [
    {
     "data": {
      "text/plain": [
       "['/home/marcelohpf/unb/tcc/models/label-binarizer.pkl']"
      ]
     },
     "execution_count": 18,
     "metadata": {},
     "output_type": "execute_result"
    }
   ],
   "source": [
    "joblib.dump(lb, os.path.join(model_path, 'label-binarizer.pkl'))"
   ]
  },
  {
   "cell_type": "code",
   "execution_count": 19,
   "metadata": {},
   "outputs": [],
   "source": [
    "# lb = joblib.load(os.path.join(model_path, 'label-binarizer.pkl'))"
   ]
  },
  {
   "cell_type": "markdown",
   "metadata": {
    "slideshow": {
     "slide_type": "skip"
    }
   },
   "source": [
    "# Report\n",
    "\n",
    "Plot a normalized matrix"
   ]
  },
  {
   "cell_type": "code",
   "execution_count": 20,
   "metadata": {
    "slideshow": {
     "slide_type": "skip"
    }
   },
   "outputs": [],
   "source": [
    "def report(y, y_hat, lb=None, history=None, classes=None):\n",
    "    if lb is None and classes is None:\n",
    "        raise Exception('Labelizer or classes should be passed')\n",
    "        \n",
    "    if lb:\n",
    "        y, y_hat = lb.inverse_transform(y), lb.inverse_transform(y_hat)\n",
    "        classes = lb.classes_\n",
    "    \n",
    "    cm = confusion_matrix(y, y_hat)\n",
    "    ncm = cm / cm.max(axis=1)[:, None]\n",
    "\n",
    "    print(classification_report(y, y_hat, target_names=classes))\n",
    "    print('Accuracy: ', accuracy_score(y, y_hat))\n",
    "\n",
    "    \n",
    "    plt.title('confusion matrix')\n",
    "    heatmap = sns.heatmap(pd.DataFrame(ncm, index=classes, columns=classes), annot=cm, fmt='d', cmap=sns.cubehelix_palette(light=1, as_cmap=True))\n",
    "    plt.show()\n",
    "    if history:\n",
    "        plt.subplot(2, 1, 1)\n",
    "        plt.plot(history.history['acc'])\n",
    "        plt.plot(history.history['val_acc'])\n",
    "        plt.title('model accuracy')\n",
    "        plt.ylabel('accuracy')\n",
    "        plt.xlabel('epoch')\n",
    "        plt.legend(['train', 'test'], loc='upper left')\n",
    "\n",
    "        plt.subplot(2, 1, 2)\n",
    "        plt.plot(history.history['loss'])\n",
    "        plt.plot(history.history['val_loss'])\n",
    "        plt.title('model loss')\n",
    "        plt.ylabel('loss')\n",
    "        plt.xlabel('epoch')\n",
    "        plt.legend(['train', 'test'], loc='upper left')\n",
    "        plt.show()"
   ]
  },
  {
   "cell_type": "markdown",
   "metadata": {
    "slideshow": {
     "slide_type": "slide"
    }
   },
   "source": [
    "# Base lines"
   ]
  },
  {
   "cell_type": "markdown",
   "metadata": {},
   "source": [
    "## SVM"
   ]
  },
  {
   "cell_type": "markdown",
   "metadata": {},
   "source": [
    "https://www.aclweb.org/anthology/P12-2018"
   ]
  },
  {
   "cell_type": "markdown",
   "metadata": {},
   "source": [
    "### Bag of words"
   ]
  },
  {
   "cell_type": "code",
   "execution_count": 21,
   "metadata": {},
   "outputs": [
    {
     "data": {
      "text/plain": [
       "(50107, 50107)"
      ]
     },
     "execution_count": 21,
     "metadata": {},
     "output_type": "execute_result"
    }
   ],
   "source": [
    "cv = CountVectorizer(max_features=MAX_FEATURES, vocabulary=list(tokenizer.word_index.keys()))\n",
    "cv.fit(train.first_page)\n",
    "\n",
    "assert len(cv.vocabulary_) == len(tokenizer.word_index), \"The size of two text transformers aren't equal\"\n",
    "\n",
    "len(cv.vocabulary_), len(tokenizer.word_index)"
   ]
  },
  {
   "cell_type": "code",
   "execution_count": 22,
   "metadata": {},
   "outputs": [
    {
     "data": {
      "text/plain": [
       "((5583, 50107), <1596x50107 sparse matrix of type '<class 'numpy.int64'>'\n",
       " \twith 250538 stored elements in Compressed Sparse Row format>, <797x50107 sparse matrix of type '<class 'numpy.int64'>'\n",
       " \twith 123819 stored elements in Compressed Sparse Row format>)"
      ]
     },
     "execution_count": 22,
     "metadata": {},
     "output_type": "execute_result"
    }
   ],
   "source": [
    "X_train_bow = cv.transform(train.first_page)\n",
    "X_validation_bow = cv.transform(validation.first_page)\n",
    "X_test_bow = cv.transform(test.first_page)\n",
    "X_train_bow.shape, X_validation_bow, X_test_bow"
   ]
  },
  {
   "cell_type": "markdown",
   "metadata": {},
   "source": [
    "### Labels"
   ]
  },
  {
   "cell_type": "code",
   "execution_count": 23,
   "metadata": {},
   "outputs": [],
   "source": [
    "le = LabelEncoder()\n",
    "YY_train = le.fit_transform(train.label)\n",
    "YY_validation = le.transform(validation.label)\n",
    "YY_test = le.transform(test.label)"
   ]
  },
  {
   "cell_type": "markdown",
   "metadata": {},
   "source": [
    "### Train"
   ]
  },
  {
   "cell_type": "code",
   "execution_count": 24,
   "metadata": {
    "scrolled": false
   },
   "outputs": [
    {
     "name": "stdout",
     "output_type": "stream",
     "text": [
      "[LibSVM]"
     ]
    },
    {
     "data": {
      "text/plain": [
       "SVC(C=1.0, cache_size=200, class_weight='balanced', coef0=0.0,\n",
       "  decision_function_shape='ovr', degree=3, gamma='auto', kernel='rbf',\n",
       "  max_iter=10000, probability=False, random_state=None, shrinking=True,\n",
       "  tol=0.001, verbose=True)"
      ]
     },
     "execution_count": 24,
     "metadata": {},
     "output_type": "execute_result"
    }
   ],
   "source": [
    "clf = SVC(max_iter=10000, verbose=True, class_weight='balanced')\n",
    "clf.fit(X_train_bow, YY_train)"
   ]
  },
  {
   "cell_type": "markdown",
   "metadata": {},
   "source": [
    "### Processed"
   ]
  },
  {
   "cell_type": "code",
   "execution_count": 25,
   "metadata": {},
   "outputs": [
    {
     "name": "stderr",
     "output_type": "stream",
     "text": [
      "/home/marcelohpf/unb/tcc/.env/lib/python3.6/site-packages/sklearn/preprocessing/label.py:151: DeprecationWarning: The truth value of an empty array is ambiguous. Returning False, but in future this will result in an error. Use `array.size > 0` to check that an array is not empty.\n",
      "  if diff:\n",
      "/home/marcelohpf/unb/tcc/.env/lib/python3.6/site-packages/sklearn/preprocessing/label.py:151: DeprecationWarning: The truth value of an empty array is ambiguous. Returning False, but in future this will result in an error. Use `array.size > 0` to check that an array is not empty.\n",
      "  if diff:\n"
     ]
    },
    {
     "name": "stdout",
     "output_type": "stream",
     "text": [
      "             precision    recall  f1-score   support\n",
      "\n",
      "        ARE       0.74      0.72      0.73       127\n",
      "    Acordao       0.71      0.57      0.63        97\n",
      "      Desp.       0.74      0.70      0.72        56\n",
      "      Outro       0.83      0.68      0.75       342\n",
      "         RE       0.44      0.95      0.61        62\n",
      "      Sent.       0.74      0.88      0.80       113\n",
      "\n",
      "avg / total       0.75      0.72      0.73       797\n",
      "\n",
      "Accuracy:  0.7214554579673776\n"
     ]
    },
    {
     "data": {
      "image/png": "[encoded data removed]",
      "text/plain": [
       "<Figure size 432x288 with 2 Axes>"
      ]
     },
     "metadata": {},
     "output_type": "display_data"
    }
   ],
   "source": [
    "clf.score(X_validation_bow, YY_validation)\n",
    "\n",
    "preds = clf.predict(X_test_bow)\n",
    "report(YY_test, preds, le)"
   ]
  },
  {
   "cell_type": "markdown",
   "metadata": {},
   "source": [
    "# NN"
   ]
  },
  {
   "cell_type": "markdown",
   "metadata": {},
   "source": [
    "## Dense"
   ]
  },
  {
   "cell_type": "code",
   "execution_count": 26,
   "metadata": {
    "slideshow": {
     "slide_type": "skip"
    }
   },
   "outputs": [
    {
     "name": "stdout",
     "output_type": "stream",
     "text": [
      "_________________________________________________________________\n",
      "Layer (type)                 Output Shape              Param #   \n",
      "=================================================================\n",
      "embedding_1 (Embedding)      (None, 2000, 100)         7000000   \n",
      "_________________________________________________________________\n",
      "flatten_1 (Flatten)          (None, 200000)            0         \n",
      "_________________________________________________________________\n",
      "dense_1 (Dense)              (None, 20)                4000020   \n",
      "_________________________________________________________________\n",
      "dense_2 (Dense)              (None, 6)                 126       \n",
      "=================================================================\n",
      "Total params: 11,000,146\n",
      "Trainable params: 11,000,146\n",
      "Non-trainable params: 0\n",
      "_________________________________________________________________\n"
     ]
    }
   ],
   "source": [
    "# # Build model\n",
    "model = Sequential()\n",
    "model.add(Embedding(input_dim=MAX_FEATURES, output_dim=EMBEDDING_OUT, input_length=SEQUENCE_LEN))\n",
    "# model.add(Dense(64, activation='relu'))\n",
    "model.add(Flatten())\n",
    "model.add(Dense(20))\n",
    "model.add(Dense(NB_CLASS, activation='softmax'))\n",
    "model.compile(loss='categorical_crossentropy',\n",
    "              optimizer='adam',\n",
    "              metrics=['accuracy'])\n",
    "model.summary()\n",
    "#"
   ]
  },
  {
   "cell_type": "code",
   "execution_count": 27,
   "metadata": {
    "slideshow": {
     "slide_type": "skip"
    }
   },
   "outputs": [
    {
     "name": "stdout",
     "output_type": "stream",
     "text": [
      "Train on 5583 samples, validate on 1596 samples\n",
      "Epoch 1/10\n",
      "5583/5583 [==============================] - 12s 2ms/step - loss: 1.2844 - acc: 0.6814 - val_loss: 0.4496 - val_acc: 0.8565\n",
      "Epoch 2/10\n",
      "5583/5583 [==============================] - 11s 2ms/step - loss: 0.1235 - acc: 0.9681 - val_loss: 0.4157 - val_acc: 0.8615\n",
      "Epoch 3/10\n",
      "5583/5583 [==============================] - 11s 2ms/step - loss: 0.0358 - acc: 0.9941 - val_loss: 0.3889 - val_acc: 0.8828\n",
      "Epoch 4/10\n",
      "5583/5583 [==============================] - 11s 2ms/step - loss: 0.0201 - acc: 0.9968 - val_loss: 0.3955 - val_acc: 0.8791\n",
      "Epoch 5/10\n",
      "5583/5583 [==============================] - 11s 2ms/step - loss: 0.0198 - acc: 0.9971 - val_loss: 0.4127 - val_acc: 0.8816\n",
      "Epoch 6/10\n",
      "5583/5583 [==============================] - 11s 2ms/step - loss: 0.0249 - acc: 0.9970 - val_loss: 0.4017 - val_acc: 0.8841\n",
      "Epoch 00006: early stopping\n",
      "797/797 [==============================] - 0s 178us/step\n",
      "             precision    recall  f1-score   support\n",
      "\n",
      "        ARE       0.88      0.86      0.87       127\n",
      "    Acordao       0.84      0.88      0.86        97\n",
      "      Desp.       0.87      0.70      0.77        56\n",
      "      Outro       0.87      0.90      0.88       342\n",
      "         RE       0.98      0.87      0.92        62\n",
      "      Sent.       0.92      0.96      0.94       113\n",
      "\n",
      "avg / total       0.88      0.88      0.88       797\n",
      "\n",
      "Accuracy:  0.8820577164366374\n"
     ]
    },
    {
     "data": {
      "image/png": "[encoded data removed]",
      "text/plain": [
       "<Figure size 432x288 with 2 Axes>"
      ]
     },
     "metadata": {},
     "output_type": "display_data"
    },
    {
     "data": {
      "image/png": "[encoded data removed]",
      "text/plain": [
       "<Figure size 432x288 with 2 Axes>"
      ]
     },
     "metadata": {},
     "output_type": "display_data"
    }
   ],
   "source": [
    "history = model.fit(X_train, Y_train, batch_size=BATCH_SIZE, epochs=EPOCHS*2,\n",
    "          validation_data=(X_validation, Y_validation), callbacks=callbacks)\n",
    "\n",
    "pred = model.predict(X_test, verbose=1)\n",
    "\n",
    "report(Y_test, pred, lb, history)"
   ]
  },
  {
   "cell_type": "markdown",
   "metadata": {
    "slideshow": {
     "slide_type": "slide"
    }
   },
   "source": [
    "## Convolutional"
   ]
  },
  {
   "cell_type": "code",
   "execution_count": 28,
   "metadata": {
    "slideshow": {
     "slide_type": "skip"
    }
   },
   "outputs": [
    {
     "name": "stdout",
     "output_type": "stream",
     "text": [
      "_________________________________________________________________\n",
      "Layer (type)                 Output Shape              Param #   \n",
      "=================================================================\n",
      "embedding_2 (Embedding)      (None, 2000, 100)         7000000   \n",
      "_________________________________________________________________\n",
      "conv1d_1 (Conv1D)            (None, 2000, 256)         102656    \n",
      "_________________________________________________________________\n",
      "max_pooling1d_1 (MaxPooling1 (None, 1000, 256)         0         \n",
      "_________________________________________________________________\n",
      "flatten_2 (Flatten)          (None, 256000)            0         \n",
      "_________________________________________________________________\n",
      "dense_3 (Dense)              (None, 6)                 1536006   \n",
      "=================================================================\n",
      "Total params: 8,638,662\n",
      "Trainable params: 8,638,662\n",
      "Non-trainable params: 0\n",
      "_________________________________________________________________\n"
     ]
    }
   ],
   "source": [
    "# filters_size = [512, 256, 128, 64]\n",
    "# Very Deep Convolutional Networks for Text Classification\n",
    "# Build model\n",
    "model = Sequential()\n",
    "model.add(Embedding(input_dim=MAX_FEATURES, output_dim=EMBEDDING_OUT, input_length=SEQUENCE_LEN))\n",
    "\n",
    "model.add(Conv1D(kernel_size=4, filters=256, padding='same',))\n",
    "model.add(MaxPooling1D(pool_size=2))\n",
    "\n",
    "model.add(Flatten())\n",
    "model.add(Dense(NB_CLASS, activation='softmax'))\n",
    "model.compile(optimizer='adam', loss='categorical_crossentropy', metrics=['accuracy'])\n",
    "model.summary()\n",
    "# Train"
   ]
  },
  {
   "cell_type": "markdown",
   "metadata": {
    "slideshow": {
     "slide_type": "slide"
    }
   },
   "source": [
    "### Non-processed"
   ]
  },
  {
   "cell_type": "code",
   "execution_count": 29,
   "metadata": {
    "slideshow": {
     "slide_type": "skip"
    }
   },
   "outputs": [
    {
     "name": "stdout",
     "output_type": "stream",
     "text": [
      "Train on 5583 samples, validate on 1596 samples\n",
      "Epoch 1/10\n",
      "5583/5583 [==============================] - 31s 6ms/step - loss: 1.0003 - acc: 0.6217 - val_loss: 0.4167 - val_acc: 0.8640\n",
      "Epoch 2/10\n",
      "5583/5583 [==============================] - 30s 5ms/step - loss: 0.2076 - acc: 0.9361 - val_loss: 0.3510 - val_acc: 0.8866\n",
      "Epoch 3/10\n",
      "5583/5583 [==============================] - 30s 5ms/step - loss: 0.0623 - acc: 0.9866 - val_loss: 0.3631 - val_acc: 0.8904\n",
      "Epoch 4/10\n",
      "5583/5583 [==============================] - 30s 5ms/step - loss: 0.0260 - acc: 0.9934 - val_loss: 0.3921 - val_acc: 0.8860\n",
      "Epoch 5/10\n",
      "5583/5583 [==============================] - 30s 5ms/step - loss: 0.0190 - acc: 0.9957 - val_loss: 0.4013 - val_acc: 0.8966\n",
      "Epoch 6/10\n",
      "5583/5583 [==============================] - 30s 5ms/step - loss: 0.0123 - acc: 0.9970 - val_loss: 0.4061 - val_acc: 0.8954\n",
      "Epoch 7/10\n",
      "5583/5583 [==============================] - 30s 5ms/step - loss: 0.0115 - acc: 0.9975 - val_loss: 0.4347 - val_acc: 0.8891\n",
      "Epoch 8/10\n",
      "5583/5583 [==============================] - 30s 5ms/step - loss: 0.0083 - acc: 0.9982 - val_loss: 0.4101 - val_acc: 0.9010\n",
      "Epoch 00008: early stopping\n",
      "797/797 [==============================] - 1s 2ms/step\n",
      "             precision    recall  f1-score   support\n",
      "\n",
      "        ARE       0.95      0.87      0.91       127\n",
      "    Acordao       0.84      0.89      0.86        97\n",
      "      Desp.       0.87      0.82      0.84        56\n",
      "      Outro       0.91      0.91      0.91       342\n",
      "         RE       0.97      0.95      0.96        62\n",
      "      Sent.       0.92      0.98      0.95       113\n",
      "\n",
      "avg / total       0.91      0.91      0.91       797\n",
      "\n",
      "Accuracy:  0.9084065244667503\n"
     ]
    },
    {
     "data": {
      "image/png": "[encoded data removed]",
      "text/plain": [
       "<Figure size 432x288 with 2 Axes>"
      ]
     },
     "metadata": {},
     "output_type": "display_data"
    },
    {
     "data": {
      "image/png": "[encoded data removed]",
      "text/plain": [
       "<Figure size 432x288 with 2 Axes>"
      ]
     },
     "metadata": {},
     "output_type": "display_data"
    }
   ],
   "source": [
    "history = model.fit(X_train, Y_train, batch_size=BATCH_SIZE*2, epochs=EPOCHS * 2,\n",
    "          validation_data=(X_validation, Y_validation), callbacks=callbacks)\n",
    "\n",
    "pred = model.predict(X_test, verbose=1)\n",
    "\n",
    "report(Y_test, pred, lb, history)"
   ]
  },
  {
   "cell_type": "markdown",
   "metadata": {},
   "source": [
    "### Processed"
   ]
  },
  {
   "cell_type": "code",
   "execution_count": null,
   "metadata": {
    "slideshow": {
     "slide_type": "skip"
    }
   },
   "outputs": [],
   "source": [
    "history = model.fit(X_train_processed, Y_train, batch_size=BATCH_SIZE, epochs=EPOCHS * 2,\n",
    "          validation_data=(X_validation_processed, Y_validation), callbacks=callbacks)\n",
    "\n",
    "score, acc = model.evaluate(X_test_processed, Y_test)\n",
    "print('Test score:', score)\n",
    "print('Test accuracy:', acc)\n",
    "pred = model.predict(X_test_processed, verbose=1)\n",
    "\n",
    "report(Y_test, pred, lb, history)"
   ]
  },
  {
   "cell_type": "markdown",
   "metadata": {},
   "source": [
    "### Save model"
   ]
  },
  {
   "cell_type": "markdown",
   "metadata": {},
   "source": [
    "Save the model in path of models"
   ]
  },
  {
   "cell_type": "code",
   "execution_count": 1,
   "metadata": {},
   "outputs": [],
   "source": [
    "# save_model(model, 'model-emb-conv1layer-dense.h5')"
   ]
  },
  {
   "cell_type": "markdown",
   "metadata": {
    "slideshow": {
     "slide_type": "slide"
    }
   },
   "source": [
    "## LSTM"
   ]
  },
  {
   "cell_type": "code",
   "execution_count": 2,
   "metadata": {
    "slideshow": {
     "slide_type": "skip"
    }
   },
   "outputs": [],
   "source": [
    "# model = Sequential()\n",
    "# model.add(Embedding(input_dim=EMBEDDING_DIM, output_dim=EMBEDDING_OUT, input_length=SEQUENCE_LEN))\n",
    "# model.add(CuDNNLSTM(units=UNITS))\n",
    "# # model.add(Dropout(0.5))\n",
    "# # model.add(Dense(64, activation='relu'))\n",
    "# # model.add(Flatten())\n",
    "# model.add(Dense(NB_CLASS, activation='softmax'))\n",
    "\n",
    "# model.compile(loss='categorical_crossentropy',\n",
    "#               optimizer='adam',\n",
    "#               metrics=['accuracy'])\n",
    "# model.summary()"
   ]
  },
  {
   "cell_type": "code",
   "execution_count": null,
   "metadata": {
    "scrolled": false,
    "slideshow": {
     "slide_type": "skip"
    }
   },
   "outputs": [],
   "source": [
    "history = model.fit(X_train, Y_train, batch_size=BATCH_SIZE * 2, epochs=EPOCHS,\n",
    "          validation_data=(X_validation, Y_validation), callbacks=callbacks)\n",
    "\n",
    "pred = model.predict(X_test, verbose=1)\n",
    "\n",
    "report(Y_test, pred, lb, history)"
   ]
  },
  {
   "cell_type": "markdown",
   "metadata": {
    "slideshow": {
     "slide_type": "slide"
    }
   },
   "source": [
    "## Bi-LSTM"
   ]
  },
  {
   "cell_type": "code",
   "execution_count": 30,
   "metadata": {
    "slideshow": {
     "slide_type": "skip"
    }
   },
   "outputs": [
    {
     "name": "stdout",
     "output_type": "stream",
     "text": [
      "_________________________________________________________________\n",
      "Layer (type)                 Output Shape              Param #   \n",
      "=================================================================\n",
      "embedding_3 (Embedding)      (None, 2000, 100)         7000000   \n",
      "_________________________________________________________________\n",
      "bidirectional_1 (Bidirection (None, 200)               483200    \n",
      "_________________________________________________________________\n",
      "dense_4 (Dense)              (None, 6)                 1206      \n",
      "=================================================================\n",
      "Total params: 7,484,406\n",
      "Trainable params: 7,484,406\n",
      "Non-trainable params: 0\n",
      "_________________________________________________________________\n"
     ]
    }
   ],
   "source": [
    "model = Sequential()\n",
    "model.add(Embedding(input_dim=MAX_FEATURES, output_dim=EMBEDDING_OUT, input_length=SEQUENCE_LEN))\n",
    "model.add(Bidirectional(CuDNNLSTM(units=UNITS*2), merge_mode='sum'))  # Use CuDNNLSTM to use in GPU\n",
    "# model.add(Dense(64, activation='relu'))\n",
    "model.add(Dense(NB_CLASS, activation='softmax'))\n",
    "\n",
    "model.compile(loss='categorical_crossentropy',\n",
    "              optimizer='adam',\n",
    "              metrics=['accuracy'])\n",
    "model.summary()"
   ]
  },
  {
   "cell_type": "markdown",
   "metadata": {},
   "source": [
    "### Nonprocessed"
   ]
  },
  {
   "cell_type": "code",
   "execution_count": 31,
   "metadata": {
    "scrolled": false,
    "slideshow": {
     "slide_type": "skip"
    }
   },
   "outputs": [
    {
     "name": "stdout",
     "output_type": "stream",
     "text": [
      "Train on 5583 samples, validate on 1596 samples\n",
      "Epoch 1/10\n",
      "5583/5583 [==============================] - 180s 32ms/step - loss: 1.0270 - acc: 0.5931 - val_loss: 0.6271 - val_acc: 0.7343\n",
      "Epoch 2/10\n",
      "5583/5583 [==============================] - 181s 32ms/step - loss: 0.5704 - acc: 0.7654 - val_loss: 0.6059 - val_acc: 0.7519\n",
      "Epoch 3/10\n",
      "5583/5583 [==============================] - 181s 32ms/step - loss: 0.4725 - acc: 0.8178 - val_loss: 0.5783 - val_acc: 0.7807\n",
      "Epoch 4/10\n",
      "5583/5583 [==============================] - 181s 32ms/step - loss: 0.2925 - acc: 0.8943 - val_loss: 0.5665 - val_acc: 0.8283\n",
      "Epoch 5/10\n",
      "5583/5583 [==============================] - 181s 33ms/step - loss: 0.1932 - acc: 0.9373 - val_loss: 0.5888 - val_acc: 0.8221\n",
      "Epoch 6/10\n",
      "5583/5583 [==============================] - 181s 32ms/step - loss: 0.1759 - acc: 0.9452 - val_loss: 0.5608 - val_acc: 0.8133\n",
      "Epoch 7/10\n",
      "5583/5583 [==============================] - 181s 32ms/step - loss: 0.1403 - acc: 0.9545 - val_loss: 0.6049 - val_acc: 0.8289\n",
      "Epoch 00007: early stopping\n",
      "797/797 [==============================] - 10s 13ms/step\n",
      "             precision    recall  f1-score   support\n",
      "\n",
      "        ARE       0.81      0.80      0.80       127\n",
      "    Acordao       0.86      0.85      0.85        97\n",
      "      Desp.       0.93      0.71      0.81        56\n",
      "      Outro       0.84      0.87      0.86       342\n",
      "         RE       0.80      0.79      0.80        62\n",
      "      Sent.       0.91      0.95      0.93       113\n",
      "\n",
      "avg / total       0.85      0.85      0.85       797\n",
      "\n",
      "Accuracy:  0.8506900878293601\n"
     ]
    },
    {
     "data": {
      "image/png": "[encoded data removed]",
      "text/plain": [
       "<Figure size 432x288 with 2 Axes>"
      ]
     },
     "metadata": {},
     "output_type": "display_data"
    },
    {
     "data": {
      "image/png": "[encoded data removed]",
      "text/plain": [
       "<Figure size 432x288 with 2 Axes>"
      ]
     },
     "metadata": {},
     "output_type": "display_data"
    }
   ],
   "source": [
    "history = model.fit(X_train, Y_train, batch_size=BATCH_SIZE , epochs=EPOCHS * 2,\n",
    "          validation_data=(X_validation, Y_validation), callbacks=callbacks)\n",
    "\n",
    "pred = model.predict(X_test, verbose=1)\n",
    "\n",
    "report(Y_test, pred, lb, history)"
   ]
  },
  {
   "cell_type": "markdown",
   "metadata": {},
   "source": [
    "### Processed"
   ]
  },
  {
   "cell_type": "code",
   "execution_count": null,
   "metadata": {
    "slideshow": {
     "slide_type": "skip"
    }
   },
   "outputs": [],
   "source": [
    "# history = model.fit(X_train_processed, Y_train, batch_size=BATCH_SIZE, epochs=EPOCHS * 2,\n",
    "#           validation_data=(X_validation_processed, Y_validation), callbacks=callbacks)\n",
    "\n",
    "# score, acc = model.evaluate(X_test_processed, Y_test)\n",
    "# print('Test score:', score)\n",
    "# print('Test accuracy:', acc)\n",
    "\n",
    "# pred = model.predict(X_test_processed, verbose=1)\n",
    "\n",
    "# report(Y_test, pred, lb, history)"
   ]
  },
  {
   "cell_type": "markdown",
   "metadata": {},
   "source": [
    "### Save model"
   ]
  },
  {
   "cell_type": "markdown",
   "metadata": {},
   "source": [
    "Save the model in path of models"
   ]
  },
  {
   "cell_type": "code",
   "execution_count": null,
   "metadata": {},
   "outputs": [],
   "source": [
    "# save_model(model, 'model-embe-bilstm-dense.h5')\n",
    "# !ls models"
   ]
  },
  {
   "cell_type": "markdown",
   "metadata": {},
   "source": [
    "Evaluate the process"
   ]
  },
  {
   "cell_type": "code",
   "execution_count": null,
   "metadata": {},
   "outputs": [],
   "source": [
    "# model = load_model(os.path.join(model_path, 'model-embe-bilstm-dense.h5'))\n",
    "# model.evaluate(X_test_processed, Y_test)"
   ]
  },
  {
   "cell_type": "markdown",
   "metadata": {},
   "source": [
    "# Convolution architectures"
   ]
  },
  {
   "cell_type": "markdown",
   "metadata": {},
   "source": [
    "## Very dense"
   ]
  },
  {
   "cell_type": "code",
   "execution_count": null,
   "metadata": {
    "scrolled": false
   },
   "outputs": [],
   "source": [
    "# model = Sequential([\n",
    "#     Embedding(input_dim=MAX_FEATURES, output_dim=EMBEDDING_OUT, input_length=SEQUENCE_LEN),\n",
    "#     Conv1D(64, 3, padding=\"valid\")\n",
    "# ])\n",
    "\n",
    "# # 4 pairs of convolution blocks followed by pooling\n",
    "# for filter_size in [64, 128, 256, 512]:\n",
    "\n",
    "#     # each iteration is a convolution block\n",
    "#     for cb_i in [0,1]:\n",
    "#         model.add(Conv1D(filter_size, 3, padding=\"same\"))\n",
    "#         model.add(BatchNormalization())\n",
    "#         model.add(Activation(\"relu\"))\n",
    "#         model.add(Conv1D(filter_size, 3, padding=\"same\")),\n",
    "#         model.add(BatchNormalization())\n",
    "#         model.add(Activation(\"relu\"))\n",
    "\n",
    "#     model.add(MaxPooling1D(pool_size=2, strides=3))\n",
    "\n",
    "# # model.add(KMaxPooling(k=2))\n",
    "# model.add(Flatten())\n",
    "# model.add(Dense(4096, activation=\"relu\"))\n",
    "# model.add(Dense(2048, activation=\"relu\"))\n",
    "# model.add(Dense(2048, activation=\"relu\"))\n",
    "# model.add(Dense(NB_CLASS, activation=\"softmax\"))\n",
    "# model.compile(optimizer='adam', loss='categorical_crossentropy', metrics=['accuracy'])\n",
    "# model.summary()"
   ]
  },
  {
   "cell_type": "markdown",
   "metadata": {},
   "source": [
    "### Processed"
   ]
  },
  {
   "cell_type": "code",
   "execution_count": null,
   "metadata": {
    "slideshow": {
     "slide_type": "skip"
    }
   },
   "outputs": [],
   "source": [
    "# history = model.fit(X_train_processed, Y_train, batch_size=BATCH_SIZE, epochs=EPOCHS,\n",
    "#           validation_data=(X_validation_processed, Y_validation))\n",
    "\n",
    "# score, acc = model.evaluate(X_test_processed, Y_test)\n",
    "# print('Test score:', score)\n",
    "# print('Test accuracy:', acc)\n",
    "# pred = model.predict(X_test_processed, verbose=1)\n",
    "\n",
    "# report(Y_test, pred, lb, history)"
   ]
  },
  {
   "cell_type": "markdown",
   "metadata": {},
   "source": [
    "## Sentense classification\n",
    "\n",
    "this models has the hyperparams of Gustavo from LL\n"
   ]
  },
  {
   "cell_type": "code",
   "execution_count": null,
   "metadata": {},
   "outputs": [],
   "source": [
    "# text_seq_input = Input(shape=(SEQUENCE_LEN, ), dtype='int32')\n",
    "# text_embedding = Embedding(input_dim=MAX_FEATURES, output_dim=EMBEDDING_OUT,\n",
    "#                            input_length=SEQUENCE_LEN)(text_seq_input)\n",
    "\n",
    "# filter_sizes = [3, 4, 5]\n",
    "# convs = []\n",
    "# for filter_size in filter_sizes:\n",
    "#     l_conv = Conv1D(filters=128, kernel_size=filter_size, padding='same', activation='relu')(text_embedding)\n",
    "#     l_drop = Dropout(0.5)(l_conv)\n",
    "#     l_pool = MaxPooling1D(filter_size + 1)(l_drop)\n",
    "    \n",
    "#     convs.append(l_pool)\n",
    "\n",
    "# l_merge = Concatenate(axis=1)(convs)\n",
    "# l_cov1= Conv1D(filters=128, kernel_size=5, activation='relu')(l_merge)\n",
    "# # since the text is too long we are maxpooling over 100\n",
    "# # and not GlobalMaxPool1D\n",
    "# l_pool1 = MaxPooling1D(100)(l_cov1)\n",
    "# l_flat = Flatten()(l_pool1)\n",
    "# l_dense = Dense(128, activation='relu')(l_flat)\n",
    "# l_drop = Dropout(0.5)(l_dense)\n",
    "# l_out = Dense(NB_CLASS, activation='softmax')(l_drop)\n",
    "# model = Model(inputs=[text_seq_input], outputs=l_out)\n",
    "\n",
    "# model.compile(optimizer='adam', loss='categorical_crossentropy', metrics=['accuracy'])\n",
    "# model.summary()"
   ]
  },
  {
   "cell_type": "markdown",
   "metadata": {},
   "source": [
    "### Processed"
   ]
  },
  {
   "cell_type": "code",
   "execution_count": null,
   "metadata": {
    "slideshow": {
     "slide_type": "skip"
    }
   },
   "outputs": [],
   "source": [
    "# history = model.fit(X_train_processed, Y_train, batch_size=BATCH_SIZE * 8, epochs=EPOCHS,\n",
    "#           validation_data=(X_validation_processed, Y_validation))\n",
    "\n",
    "# score, acc = model.evaluate(X_test_processed, Y_test)\n",
    "# print('Test score:', score)\n",
    "# print('Test accuracy:', acc)\n",
    "# pred = model.predict(X_test_processed, verbose=1)\n",
    "\n",
    "# report(Y_test, pred, lb, history)"
   ]
  },
  {
   "cell_type": "markdown",
   "metadata": {},
   "source": [
    "### Save model"
   ]
  },
  {
   "cell_type": "markdown",
   "metadata": {},
   "source": [
    "Save the model in path of models"
   ]
  },
  {
   "cell_type": "code",
   "execution_count": null,
   "metadata": {},
   "outputs": [],
   "source": [
    "# save_model(model, 'model-embe-sent_conv-dense.h5')\n",
    "# !ls models"
   ]
  },
  {
   "cell_type": "markdown",
   "metadata": {},
   "source": [
    "# RNN architectures"
   ]
  },
  {
   "cell_type": "markdown",
   "metadata": {
    "slideshow": {
     "slide_type": "slide"
    }
   },
   "source": [
    "## Bi-LSTM"
   ]
  },
  {
   "cell_type": "code",
   "execution_count": null,
   "metadata": {
    "slideshow": {
     "slide_type": "skip"
    }
   },
   "outputs": [],
   "source": [
    "# model = Sequential()\n",
    "# model.add(Embedding(input_dim=MAX_FEATURES, output_dim=EMBEDDING_OUT, input_length=SEQUENCE_LEN))\n",
    "\n",
    "# model.add(Bidirectional(CuDNNLSTM(units=UNITS * 2), merge_mode='sum'))  # Use CuDNNLSTM to use in GPU\n",
    "\n",
    "# model.add(Dense(64, activation='relu'))\n",
    "# model.add(Dense(NB_CLASS, activation='softmax'))\n",
    "\n",
    "# model.compile(loss='categorical_crossentropy',\n",
    "#               optimizer='adam',\n",
    "#               metrics=['accuracy'])\n",
    "# model.summary()"
   ]
  },
  {
   "cell_type": "markdown",
   "metadata": {},
   "source": [
    "### Processed"
   ]
  },
  {
   "cell_type": "code",
   "execution_count": null,
   "metadata": {
    "slideshow": {
     "slide_type": "skip"
    }
   },
   "outputs": [],
   "source": [
    "# history = model.fit(X_train_processed, Y_train, batch_size=BATCH_SIZE * 4, epochs=EPOCHS,\n",
    "#           validation_data=(X_validation_processed, Y_validation))\n",
    "\n",
    "# score, acc = model.evaluate(X_test_processed, Y_test)\n",
    "# print('Test score:', score)\n",
    "# print('Test accuracy:', acc)\n",
    "\n",
    "# pred = model.predict(X_test_processed, verbose=1)\n",
    "\n",
    "# report(Y_test, pred, lb, history)"
   ]
  },
  {
   "cell_type": "markdown",
   "metadata": {},
   "source": [
    "# Mixed architectures"
   ]
  },
  {
   "cell_type": "markdown",
   "metadata": {
    "slideshow": {
     "slide_type": "slide"
    }
   },
   "source": [
    "## Bi-LSTM-Convolutional"
   ]
  },
  {
   "cell_type": "markdown",
   "metadata": {},
   "source": [
    "https://dl.acm.org/citation.cfm?id=2886636"
   ]
  },
  {
   "cell_type": "markdown",
   "metadata": {
    "slideshow": {
     "slide_type": "skip"
    }
   },
   "source": [
    "Use the convolutional layer to extract the most important features from texto to then, pass throught LSTM to identify context between data"
   ]
  },
  {
   "cell_type": "code",
   "execution_count": null,
   "metadata": {
    "slideshow": {
     "slide_type": "skip"
    }
   },
   "outputs": [],
   "source": [
    "# model = Sequential()\n",
    "# model.add(Embedding(MAX_FEATURES, output_dim=EMBEDDING_OUT, input_length=SEQUENCE_LEN))\n",
    "\n",
    "# model.add(Bidirectional(CuDNNLSTM(units=UNITS*2), merge_mode='sum'))  # Use CuDNNLSTM to use in GPU\n",
    "# model.add(Reshape(target_shape=(UNITS, 2)))\n",
    "\n",
    "# model.add(Conv1D(kernel_size=4, filters=256, activation='relu', ))\n",
    "# model.add(MaxPooling1D(pool_size=2))\n",
    "\n",
    "# model.add(Flatten())\n",
    "# model.add(Dense(NB_CLASS, activation='softmax'))\n",
    "\n",
    "# model.compile(loss='categorical_crossentropy',\n",
    "#               optimizer='adam',\n",
    "#               metrics=['accuracy'])\n",
    "\n",
    "# model.summary()"
   ]
  },
  {
   "cell_type": "code",
   "execution_count": null,
   "metadata": {
    "scrolled": false,
    "slideshow": {
     "slide_type": "skip"
    }
   },
   "outputs": [],
   "source": [
    "# history = model.fit(X_train, Y_train, batch_size=BATCH_SIZE * 4, epochs=EPOCHS,\n",
    "#           validation_data=(X_validation, Y_validation))\n",
    "\n",
    "# score, acc = model.evaluate(X_test, Y_test,\n",
    "#                             batch_size=BATCH_SIZE)\n",
    "# print('Test score:', score)\n",
    "# print('Test accuracy:', acc)\n",
    "\n",
    "# pred = model.predict(X_test, verbose=1)\n",
    "\n",
    "# report(Y_test, pred, lb, history)"
   ]
  },
  {
   "cell_type": "markdown",
   "metadata": {
    "slideshow": {
     "slide_type": "slide"
    }
   },
   "source": [
    "## Bi-RNN Convolutional"
   ]
  },
  {
   "cell_type": "code",
   "execution_count": null,
   "metadata": {
    "slideshow": {
     "slide_type": "skip"
    }
   },
   "outputs": [],
   "source": [
    "# model = Sequential()\n",
    "# model.add(Embedding(MAX_FEATURES, output_dim=EMBEDDING_OUT, input_length=SEQUENCE_LEN))\n",
    "\n",
    "# model.add(Bidirectional(SimpleRNN(units=UNITS*2), merge_mode='sum'))\n",
    "\n",
    "# model.add(Reshape(target_shape=(UNITS, 2, )))\n",
    "\n",
    "# model.add(Conv1D(kernel_size=32, filters=4, activation='relu', ))\n",
    "# model.add(MaxPooling1D(pool_size=2))\n",
    "\n",
    "\n",
    "# model.add(Flatten())\n",
    "# model.add(Dense(NB_CLASS, activation='softmax'))\n",
    "\n",
    "# model.compile(loss='categorical_crossentropy',\n",
    "#               optimizer='adam',\n",
    "#               metrics=['accuracy'])\n",
    "\n",
    "# model.summary()"
   ]
  },
  {
   "cell_type": "code",
   "execution_count": null,
   "metadata": {
    "slideshow": {
     "slide_type": "skip"
    }
   },
   "outputs": [],
   "source": [
    "# history = model.fit(X_train, Y_train, batch_size=BATCH_SIZE, epochs=EPOCHS // 2,\n",
    "#           validation_data=(X_validation, Y_validation))\n",
    "\n",
    "# score, acc = model.evaluate(X_test, Y_test,\n",
    "#                             batch_size=BATCH_SIZE)\n",
    "# print('Test score:', score)\n",
    "# print('Test accuracy:', acc)\n",
    "\n",
    "# pred = model.predict(X_test, verbose=1)\n",
    "\n",
    "# report(Y_test, pred, lb, history)"
   ]
  },
  {
   "cell_type": "markdown",
   "metadata": {
    "slideshow": {
     "slide_type": "slide"
    }
   },
   "source": [
    "## Convolutional Bi-RNN"
   ]
  },
  {
   "cell_type": "code",
   "execution_count": null,
   "metadata": {
    "slideshow": {
     "slide_type": "skip"
    }
   },
   "outputs": [],
   "source": [
    "# model = Sequential()\n",
    "# model.add(Embedding(MAX_FEATURES, output_dim=EMBEDDING_OUT, input_length=SEQUENCE_LEN))\n",
    "\n",
    "# # model.add(Conv1D(kernel_size=3, filters=256, activation='relu', padding='same'))\n",
    "# model.add(Conv1D(kernel_size=4, filters=256, activation='relu', padding='same'))\n",
    "# model.add(MaxPooling1D(pool_size=2))\n",
    "\n",
    "# model.add(Conv1D(kernel_size=3, filters=128, activation='relu', padding='same'))\n",
    "# model.add(MaxPooling1D(pool_size=2))\n",
    "\n",
    "# model.add(Bidirectional(SimpleRNN(units=UNITS*2), merge_mode='sum'))\n",
    "\n",
    "# # model.add(Flatten())\n",
    "# model.add(Dense(NB_CLASS, activation='softmax'))\n",
    "\n",
    "# model.compile(loss='categorical_crossentropy',\n",
    "#               optimizer='adam',\n",
    "#               metrics=['accuracy'])\n",
    "\n",
    "# model.summary()"
   ]
  },
  {
   "cell_type": "code",
   "execution_count": null,
   "metadata": {
    "slideshow": {
     "slide_type": "skip"
    }
   },
   "outputs": [],
   "source": [
    "# history = model.fit(X_train, Y_train, batch_size=BATCH_SIZE, epochs=EPOCHS,\n",
    "#           validation_data=(X_validation, Y_validation))\n",
    "\n",
    "# score, acc = model.evaluate(X_test, Y_test,\n",
    "#                             batch_size=BATCH_SIZE)\n",
    "# print('Test score:', score)\n",
    "# print('Test accuracy:', acc)\n",
    "\n",
    "# pred = model.predict(X_test, verbose=1)\n",
    "\n",
    "# report(Y_test, pred, lb, history)"
   ]
  },
  {
   "cell_type": "markdown",
   "metadata": {
    "slideshow": {
     "slide_type": "slide"
    }
   },
   "source": [
    "## Convolutional Bi-LSTM"
   ]
  },
  {
   "cell_type": "code",
   "execution_count": null,
   "metadata": {
    "slideshow": {
     "slide_type": "skip"
    }
   },
   "outputs": [],
   "source": [
    "# model = Sequential()\n",
    "# model.add(Embedding(MAX_FEATURES, output_dim=EMBEDDING_OUT, input_length=SEQUENCE_LEN))\n",
    "\n",
    "# model.add(Conv1D(kernel_size=4, filters=512, activation='relu', padding='same'))\n",
    "# model.add(MaxPooling1D(pool_size=2))\n",
    "\n",
    "# model.add(Bidirectional(CuDNNLSTM(units=UNITS * 2), merge_mode='sum'))\n",
    "\n",
    "# # model.add(Flatten())\n",
    "# model.add(Dense(NB_CLASS, activation='softmax'))\n",
    "\n",
    "# model.compile(loss='categorical_crossentropy',\n",
    "#               optimizer='adam',\n",
    "#               metrics=['accuracy'])\n",
    "\n",
    "# model.summary()"
   ]
  },
  {
   "cell_type": "markdown",
   "metadata": {},
   "source": [
    "### Nonprocessed"
   ]
  },
  {
   "cell_type": "code",
   "execution_count": null,
   "metadata": {
    "slideshow": {
     "slide_type": "skip"
    }
   },
   "outputs": [],
   "source": [
    "# history = model.fit(X_train, Y_train, batch_size=BATCH_SIZE, epochs=EPOCHS,\n",
    "#           validation_data=(X_validation, Y_validation))\n",
    "\n",
    "# score, acc = model.evaluate(X_test, Y_test,\n",
    "#                             batch_size=BATCH_SIZE)\n",
    "# print('Test score:', score)\n",
    "# print('Test accuracy:', acc)\n",
    "\n",
    "# pred = model.predict(X_test, verbose=1)\n",
    "\n",
    "# report(Y_test, pred, lb, history)"
   ]
  },
  {
   "cell_type": "markdown",
   "metadata": {},
   "source": [
    "### Processed"
   ]
  },
  {
   "cell_type": "code",
   "execution_count": null,
   "metadata": {
    "slideshow": {
     "slide_type": "skip"
    }
   },
   "outputs": [],
   "source": [
    "# history = model.fit(X_train_processed, Y_train, batch_size=BATCH_SIZE * 4, epochs=EPOCHS * 2,\n",
    "#           validation_data=(X_validation_processed, Y_validation))\n",
    "\n",
    "# score, acc = model.evaluate(X_test_processed, Y_test)\n",
    "# print('Test score:', score)\n",
    "# print('Test accuracy:', acc)\n",
    "\n",
    "# pred = model.predict(X_test_processed, verbose=1)\n",
    "\n",
    "# report(Y_test, pred, lb, history)"
   ]
  },
  {
   "cell_type": "code",
   "execution_count": null,
   "metadata": {
    "slideshow": {
     "slide_type": "skip"
    }
   },
   "outputs": [],
   "source": [
    "# print('Build model...')\n",
    "# model = Sequential()\n",
    "# model.add(Embedding(max_features, 128, input_length=maxlen))\n",
    "# model.add(LSTM(128, activation='relu'))\n",
    "# model.add(Dense(64, activation='relu'))\n",
    "# model.add(Dense(6, activation='sigmoid'))\n",
    "\n",
    "# model.compile(loss='binary_crossentropy',\n",
    "#               optimizer='adam',\n",
    "#               metrics=['accuracy'])\n",
    "# model.summary()\n",
    "# print('Train...')\n",
    "# history = model.fit(X_train, y_train, batch_size=batch_size, epochs=3,\n",
    "#           validation_data=(X_test, y_test))\n",
    "# score, acc = model.evaluate(X_test, y_test,\n",
    "#                             batch_size=batch_size)\n",
    "# print('Test score:', score)\n",
    "# print('Test accuracy:', acc)\n",
    "# model.summary()"
   ]
  },
  {
   "cell_type": "markdown",
   "metadata": {
    "slideshow": {
     "slide_type": "skip"
    }
   },
   "source": [
    "# Probabilities"
   ]
  },
  {
   "cell_type": "markdown",
   "metadata": {},
   "source": [
    "## Data modification"
   ]
  },
  {
   "cell_type": "code",
   "execution_count": null,
   "metadata": {},
   "outputs": [],
   "source": [
    "# Remove Outro to train a new model without this class\n",
    "# ptrain = train[train.label != 'Outro']\n",
    "# pvalidation = validation[validation.label != 'Outro']\n",
    "# ptest = test[test.label != 'Outro']\n",
    "# ptrain.label.value_counts()"
   ]
  },
  {
   "cell_type": "code",
   "execution_count": null,
   "metadata": {},
   "outputs": [],
   "source": [
    "# Use same tokenization and padding. Assumes the vocabulary of Outros is know\n",
    "# psequences_train = tokenizer.texts_to_sequences(ptrain.text_pre_processed)\n",
    "# psequences_validation = tokenizer.texts_to_sequences(pvalidation.text_pre_processed)\n",
    "# psequences_test = tokenizer.texts_to_sequences(ptest.text_pre_processed)\n",
    "\n",
    "# PX_train = sequence.pad_sequences(psequences_train, maxlen=SEQUENCE_LEN, padding='post')\n",
    "# PX_validation = sequence.pad_sequences(psequences_validation, maxlen=SEQUENCE_LEN, padding='post')\n",
    "# PX_test = sequence.pad_sequences(psequences_test, maxlen=SEQUENCE_LEN, padding='post')"
   ]
  },
  {
   "cell_type": "code",
   "execution_count": null,
   "metadata": {},
   "outputs": [],
   "source": [
    "# Label transformation\n",
    "\n",
    "# plb = LabelBinarizer()\n",
    "# PY_train = plb.fit_transform(ptrain.label)\n",
    "# PY_validation = plb.transform(pvalidation.label)\n",
    "# # Y test labels is unnecessary\n",
    "# PY_test = plb.transform(ptest.label)"
   ]
  },
  {
   "cell_type": "markdown",
   "metadata": {},
   "source": [
    "## Network params"
   ]
  },
  {
   "cell_type": "code",
   "execution_count": null,
   "metadata": {},
   "outputs": [],
   "source": [
    "# PNB_CLASS = ptrain.label.unique().size  # Number of output classes"
   ]
  },
  {
   "cell_type": "markdown",
   "metadata": {},
   "source": [
    "## Model"
   ]
  },
  {
   "cell_type": "code",
   "execution_count": null,
   "metadata": {},
   "outputs": [],
   "source": [
    "# pmodel = Sequential()\n",
    "# pmodel.add(Embedding(input_dim=MAX_FEATURES, output_dim=EMBEDDING_OUT, input_length=SEQUENCE_LEN))\n",
    "# pmodel.add(Bidirectional(CuDNNLSTM(units=UNITS * 2), merge_mode='sum'))  # Use CuDNNLSTM to use in GPU\n",
    "# # model.add(Dense(64, activation='relu'))\n",
    "# pmodel.add(Dense(PNB_CLASS, activation='softmax'))\n",
    "\n",
    "# pmodel.compile(loss='categorical_crossentropy',\n",
    "#               optimizer='adam',\n",
    "#               metrics=['accuracy'])\n",
    "# pmodel.summary()"
   ]
  },
  {
   "cell_type": "markdown",
   "metadata": {},
   "source": [
    "### Processed"
   ]
  },
  {
   "cell_type": "code",
   "execution_count": null,
   "metadata": {},
   "outputs": [],
   "source": [
    "# history = pmodel.fit(PX_train, PY_train, batch_size=BATCH_SIZE * 4, epochs=EPOCHS * 2,\n",
    "#           validation_data=(PX_validation, PY_validation), callbacks=callbacks)\n",
    "\n",
    "# pred = pmodel.predict(PX_test, verbose=1)\n",
    "\n",
    "# report(PY_test, pred, plb, history)"
   ]
  },
  {
   "cell_type": "markdown",
   "metadata": {},
   "source": [
    "### Predict probabilities"
   ]
  },
  {
   "cell_type": "code",
   "execution_count": null,
   "metadata": {},
   "outputs": [],
   "source": [
    "# # model = load_model(os.path.join(model_path, 'model-bilstm-wo.outros.h5'))\n",
    "# probabilities = pmodel.predict_proba(X_test_processed, verbose=1, batch_size=BATCH_SIZE * 16)"
   ]
  },
  {
   "cell_type": "markdown",
   "metadata": {},
   "source": [
    "## Predict function"
   ]
  },
  {
   "cell_type": "code",
   "execution_count": null,
   "metadata": {},
   "outputs": [],
   "source": [
    "def prob(y_hat, classes, threshold):\n",
    "    idx = y_hat.argmax()\n",
    "    if y_hat[idx] >= threshold:\n",
    "            return classes[idx]\n",
    "    return 'Outro'\n",
    "\n",
    "def predict(y_pred, classes, threshold):\n",
    "    return np.array([prob(y_hat, classes, threshold) for y_hat in y_pred])\n",
    "\n",
    "def bad_prob(y_hat, classes, threshold):\n",
    "    idx = y_hat.argmax()\n",
    "    if y_hat[idx] >= threshold:\n",
    "            return classes[idx]\n",
    "    return None\n",
    "\n",
    "def bad_evaluate(y_pred, classes, threshold, y_true):\n",
    "    bad_result = []\n",
    "    bad_y = []\n",
    "    for y, y_hat in zip(y_true, y_pred):\n",
    "        pred = bad_prob(y_hat, classes, threshold)\n",
    "        if pred:\n",
    "            bad_result.append(pred)\n",
    "            bad_y.append(y)\n",
    "#         else:\n",
    "#             print(y, pred)\n",
    "    \n",
    "    return precision_recall_fscore_support(bad_y, bad_result, average='weighted')[:-1]\n",
    "    \n",
    "\n",
    "# precision_recall_fscore_support(y, y_hat, average='weighted')[:-1]"
   ]
  },
  {
   "cell_type": "markdown",
   "metadata": {},
   "source": [
    "## Processed\n",
    "### Threshold"
   ]
  },
  {
   "cell_type": "code",
   "execution_count": null,
   "metadata": {},
   "outputs": [],
   "source": [
    "results = []\n",
    "thresholds = np.arange(25, 101)/100\n",
    "print(len(thresholds), thresholds)\n",
    "for threshold in thresholds:\n",
    "    predictions = predict(probabilities, plb.classes_, threshold)\n",
    "    results.append(precision_recall_fscore_support(test.label, predictions, average='weighted')[:-1])"
   ]
  },
  {
   "cell_type": "markdown",
   "metadata": {},
   "source": [
    "### Report"
   ]
  },
  {
   "cell_type": "code",
   "execution_count": null,
   "metadata": {},
   "outputs": [],
   "source": [
    "results = np.array(results)\n",
    "for metric in range(3):\n",
    "    plt.plot(thresholds, results[:, metric])\n",
    "plt.legend(['Precision', 'Recall', 'F-score'])\n",
    "plt.xlabel('threshold')\n",
    "plt.ylabel('metric value')\n",
    "x = plt.yticks(np.arange(5, 20)/20)"
   ]
  },
  {
   "cell_type": "markdown",
   "metadata": {},
   "source": [
    "### Bad\n",
    "\n",
    "deleteme!!!"
   ]
  },
  {
   "cell_type": "code",
   "execution_count": null,
   "metadata": {
    "scrolled": true
   },
   "outputs": [],
   "source": [
    "results = []\n",
    "for threshold in thresholds:\n",
    "    result = bad_evaluate(probabilities, plb.classes_, threshold, test.label)\n",
    "    results.append(result)"
   ]
  },
  {
   "cell_type": "code",
   "execution_count": null,
   "metadata": {},
   "outputs": [],
   "source": [
    "results = np.array(results)\n",
    "for metric in range(3):\n",
    "    plt.plot(thresholds, results[:, metric])\n",
    "plt.legend(['Precision', 'Recall', 'F-score'])\n",
    "plt.xlabel('threshold')\n",
    "plt.ylabel('metric value')\n",
    "x = plt.yticks(np.arange(5, 20)/20)"
   ]
  },
  {
   "cell_type": "markdown",
   "metadata": {},
   "source": [
    "# Ensamble"
   ]
  },
  {
   "cell_type": "markdown",
   "metadata": {},
   "source": [
    "## Load models\n",
    "\n",
    "Load and evaluate the best models"
   ]
  },
  {
   "cell_type": "code",
   "execution_count": null,
   "metadata": {},
   "outputs": [],
   "source": [
    "# Models\n",
    "modelA = load_model(os.path.join(model_path, 'model-embe-bilstm-dense.h5'))\n",
    "modelB = load_model(os.path.join(model_path, 'model-emb-conv1layer-dense.h5'))\n",
    "# Label transform\n",
    "dual_voting_lb = joblib.load(os.path.join(model_path, 'label-binarizer.pkl'))"
   ]
  },
  {
   "cell_type": "code",
   "execution_count": null,
   "metadata": {},
   "outputs": [],
   "source": [
    "predictionA = modelA.predict(X_test_processed, verbose=1, batch_size=32)\n",
    "report(dual_voting_lb.transform(test.label), predictionA, dual_voting_lb)\n",
    "\n",
    "predictionB = modelB.predict(X_test_processed, verbose=1, batch_size=32)\n",
    "report(dual_voting_lb.transform(test.label), predictionB, dual_voting_lb)"
   ]
  },
  {
   "cell_type": "markdown",
   "metadata": {},
   "source": [
    "## Dual voting"
   ]
  },
  {
   "cell_type": "markdown",
   "metadata": {},
   "source": [
    "\n",
    "### Predict function"
   ]
  },
  {
   "cell_type": "code",
   "execution_count": null,
   "metadata": {},
   "outputs": [],
   "source": [
    "def predict(X, modelA, modelB, lb, verbose=1):\n",
    "    if verbose: print('model A')\n",
    "    yA = lb.inverse_transform(modelA.predict(X, verbose=verbose, batch_size=64))\n",
    "    if verbose: print('model B')\n",
    "    yB = lb.inverse_transform(modelB.predict(X, verbose=verbose, batch_size=64))\n",
    "#     for a, b in zip(yA, yB):\n",
    "#         print(a,b)\n",
    "    return np.array([a if a == b else 'Outro*' for a, b in zip(yA, yB)])"
   ]
  },
  {
   "cell_type": "markdown",
   "metadata": {},
   "source": [
    "### Processed"
   ]
  },
  {
   "cell_type": "code",
   "execution_count": null,
   "metadata": {},
   "outputs": [],
   "source": [
    "prediction = predict(X_test_processed, modelA, modelB, dual_voting_lb)"
   ]
  },
  {
   "cell_type": "code",
   "execution_count": null,
   "metadata": {},
   "outputs": [],
   "source": [
    "report(dual_voting_lb.transform(test.label), dual_voting_lb.transform(prediction), dual_voting_lb)\n",
    "# confusion_matrix(test.label, prediction)"
   ]
  },
  {
   "cell_type": "markdown",
   "metadata": {},
   "source": [
    "## Sum"
   ]
  },
  {
   "cell_type": "code",
   "execution_count": null,
   "metadata": {},
   "outputs": [],
   "source": [
    "def predict(X, modelA, modelB, lb, verbose=1):\n",
    "    if verbose: print('model A')\n",
    "    yA = modelA.predict_proba(X, verbose=verbose, batch_size=32)\n",
    "    if verbose: print('model B')\n",
    "    yB = modelB.predict_proba(X, verbose=verbose, batch_size=32)\n",
    "#     for a, b in zip(yA, yB):\n",
    "#         print(a,b)\n",
    "    y = yA + yB\n",
    "    return y, yA, yB"
   ]
  },
  {
   "cell_type": "code",
   "execution_count": null,
   "metadata": {},
   "outputs": [],
   "source": [
    "preds, yA, yB = predict(X_test_processed, modelA, modelB, lb)"
   ]
  },
  {
   "cell_type": "code",
   "execution_count": null,
   "metadata": {},
   "outputs": [],
   "source": [
    "report(Y_test, preds, lb)"
   ]
  },
  {
   "cell_type": "markdown",
   "metadata": {},
   "source": [
    "## Shallow"
   ]
  },
  {
   "cell_type": "code",
   "execution_count": null,
   "metadata": {},
   "outputs": [],
   "source": [
    "display(comb(labels_index.size, 2))\n",
    "to_combine = labels_index\n",
    "## Will aways combine 2 at time\n",
    "combinations = []\n",
    "for m in [(SVC, {'max_iter': 10000, 'verbose': True}),\n",
    "          (SVC, {'kernel': 'poly', 'max_iter': 50000, 'verbose': True}),\n",
    "         (KNeighborsClassifier, {'p': 1, 'n_neighbors': 1}),\n",
    "         (KNeighborsClassifier, {'p': 2, 'n_neighbors': 1}),\n",
    "         (KNeighborsClassifier, {'p': 1, }),\n",
    "         (KNeighborsClassifier, {'p': 2, }),\n",
    "         (MultinomialNB, {}),\n",
    "         (DecisionTreeClassifier, {'class_weight': 'balanced', 'max_features': 'sqrt'}),\n",
    "         (DecisionTreeClassifier, {'class_weight': 'balanced', 'max_features': 'log2'}),\n",
    "         (DecisionTreeClassifier, {'class_weight': 'balanced', }),\n",
    "#          (MLPClassifier, {})\n",
    "         ]:\n",
    "    for i in range(to_combine.size):\n",
    "        for j in range(i+1, to_combine.size):\n",
    "            combinations.append((m, le.transform((to_combine[i], to_combine[j],))))\n",
    "\n",
    "combinations"
   ]
  },
  {
   "cell_type": "code",
   "execution_count": null,
   "metadata": {},
   "outputs": [],
   "source": [
    "def model_validate(model_param, combination):\n",
    "    print(model_param)\n",
    "    # Mask\n",
    "    train_mask = np.isin(YY_train, combination)\n",
    "\n",
    "    # Filter\n",
    "    Y_train_filter = YY_train[train_mask]\n",
    "    X_train_filter = X_train_bow[train_mask]\n",
    "\n",
    "    test_mask = np.isin(YY_test, combination)\n",
    "    Y_test_filter = YY_test[test_mask]\n",
    "    X_test_filter = X_test_bow[test_mask]\n",
    "    \n",
    "#     smp_weight = class_weight.compute_sample_weight('balanced', Y_train_filter)\n",
    "\n",
    "# Output shape\n",
    "# Y_train_filter.shape, X_train_filter.shape, Y_test_filter.shape, X_test_filter.shape\n",
    "    model, params = model_param    \n",
    "    clf = model(**params)\n",
    "    clf.fit(X_train_filter, Y_train_filter)\n",
    "\n",
    "# clf.score(X_validation_processed, YY_validation)\n",
    "\n",
    "    preds = clf.predict(X_test_filter)\n",
    "    return Y_test_filter, preds, le.inverse_transform(combination), clf"
   ]
  },
  {
   "cell_type": "code",
   "execution_count": null,
   "metadata": {},
   "outputs": [],
   "source": [
    "models = joblib.Parallel(n_jobs=-1)(\n",
    "    tqdm((joblib.delayed(model_validate)(model, comb) for model, comb in combinations), total=len(combinations)\n",
    "))"
   ]
  },
  {
   "cell_type": "code",
   "execution_count": null,
   "metadata": {
    "scrolled": false
   },
   "outputs": [],
   "source": [
    "results = []\n",
    "for y, y_hat, classes, clf in models:\n",
    "    \n",
    "    result = [classes[0], classes[1], clf.__class__.__name__, precision_score(y, y_hat, average='weighted'), recall_score(y, y_hat, average='weighted'), f1_score(y, y_hat, average='weighted')]\n",
    "#     print(clf.__class__.__name__, precision_recall_fscore_support(y, y_hat, average='weighted')[:3])\n",
    "    results.append(result)\n",
    "    \n",
    "df = pd.DataFrame(results, columns=['a', 'b', 'model', 'precision', 'recall', 'fscore'])"
   ]
  },
  {
   "cell_type": "code",
   "execution_count": null,
   "metadata": {},
   "outputs": [],
   "source": [
    "ndf = df.groupby(['a','b'])['fscore'].nlargest(n=1).reset_index()\n",
    "ndf"
   ]
  },
  {
   "cell_type": "code",
   "execution_count": null,
   "metadata": {},
   "outputs": [],
   "source": [
    "best_models = [(d[2], d[3]) for d in np.array(models)[ndf.level_2]]\n",
    "\n",
    "best_models"
   ]
  },
  {
   "cell_type": "code",
   "execution_count": null,
   "metadata": {},
   "outputs": [],
   "source": [
    "def predict(X, modelA, modelB, lb, XX, models, le):\n",
    "    yA = lb.inverse_transform(modelA.predict(X, verbose=1, batch_size=32))\n",
    "    yB = lb.inverse_transform(modelB.predict(X, verbose=1, batch_size=32))\n",
    "    result = []\n",
    "    for a, b, xx in zip(yA, yB, XX):\n",
    "        if (a == b):\n",
    "            result.append(a)\n",
    "        else:\n",
    "            for label, model in models:\n",
    "                if (np.sort(label) == sorted([a, b])).all():\n",
    "                    result.append(le.inverse_transform(model.predict(xx)[0]))\n",
    "                    break\n",
    "    return np.array(result)\n",
    "#     return np.array([a if a == b else 'Outro*' for a, b in zip(yA, yB)])"
   ]
  },
  {
   "cell_type": "code",
   "execution_count": null,
   "metadata": {},
   "outputs": [],
   "source": [
    "preds = predict(X_test_processed, modelA, modelB, lb, X_test_bow, best_models, le)"
   ]
  },
  {
   "cell_type": "code",
   "execution_count": null,
   "metadata": {},
   "outputs": [],
   "source": [
    "preds"
   ]
  },
  {
   "cell_type": "code",
   "execution_count": null,
   "metadata": {},
   "outputs": [],
   "source": [
    "report(np.array(test.label), preds, classes=lb.classes_)"
   ]
  },
  {
   "cell_type": "markdown",
   "metadata": {},
   "source": [
    "# Train with weight"
   ]
  },
  {
   "cell_type": "markdown",
   "metadata": {},
   "source": [
    "## Get samples and class weights"
   ]
  },
  {
   "cell_type": "code",
   "execution_count": null,
   "metadata": {},
   "outputs": [],
   "source": [
    "from sklearn.utils import class_weight"
   ]
  },
  {
   "cell_type": "code",
   "execution_count": null,
   "metadata": {},
   "outputs": [],
   "source": [
    "y_sample = train.label.value_counts()\n",
    "samples_weight = class_weight.compute_sample_weight('balanced', y_sample)\n",
    "classes_weight = class_weight.compute_class_weight('balanced',lb.classes_,train['label'])\n",
    "classes_weight, samples_weight"
   ]
  },
  {
   "cell_type": "markdown",
   "metadata": {},
   "source": [
    "### Convolutional model"
   ]
  },
  {
   "cell_type": "code",
   "execution_count": null,
   "metadata": {},
   "outputs": [],
   "source": [
    "# filters_size = [512, 256, 128, 64]\n",
    "# Very Deep Convolutional Networks for Text Classification\n",
    "# Build model\n",
    "model = Sequential()\n",
    "model.add(Embedding(input_dim=MAX_FEATURES, output_dim=EMBEDDING_OUT, input_length=SEQUENCE_LEN))\n",
    "\n",
    "model.add(Conv1D(kernel_size=4, filters=256, padding='same',))\n",
    "model.add(MaxPooling1D(pool_size=2))\n",
    "\n",
    "model.add(Flatten())\n",
    "model.add(Dense(NB_CLASS, activation='softmax'))\n",
    "model.compile(optimizer='adam', loss='categorical_crossentropy', metrics=['accuracy'])\n",
    "model.summary()\n",
    "# Train"
   ]
  },
  {
   "cell_type": "code",
   "execution_count": null,
   "metadata": {},
   "outputs": [],
   "source": [
    "history = model.fit(X_train_processed, Y_train, batch_size=BATCH_SIZE * 16, epochs=EPOCHS * 2, class_weight=classes_weight,\n",
    "          validation_data=(X_validation_processed, Y_validation))"
   ]
  },
  {
   "cell_type": "code",
   "execution_count": null,
   "metadata": {},
   "outputs": [],
   "source": [
    "score, acc = model.evaluate(X_test_processed, Y_test)\n",
    "print('Test score:', score)\n",
    "print('Test accuracy:', acc)\n",
    "pred = model.predict(X_test_processed, verbose=1)\n",
    "\n",
    "report(Y_test, pred, lb, history)"
   ]
  },
  {
   "cell_type": "markdown",
   "metadata": {},
   "source": [
    "### BI-LSTM"
   ]
  },
  {
   "cell_type": "code",
   "execution_count": null,
   "metadata": {
    "slideshow": {
     "slide_type": "skip"
    }
   },
   "outputs": [],
   "source": [
    "model = Sequential()\n",
    "model.add(Embedding(input_dim=MAX_FEATURES, output_dim=EMBEDDING_OUT, input_length=SEQUENCE_LEN))\n",
    "model.add(Bidirectional(CuDNNLSTM(units=UNITS*2), merge_mode='sum'))  # Use CuDNNLSTM to use in GPU\n",
    "# model.add(Dense(64, activation='relu'))\n",
    "model.add(Dense(NB_CLASS, activation='softmax'))\n",
    "model.compile(loss='binary_crossentropy',\n",
    "              optimizer='adam',\n",
    "              metrics=['accuracy'])\n",
    "model.summary()"
   ]
  },
  {
   "cell_type": "code",
   "execution_count": null,
   "metadata": {},
   "outputs": [],
   "source": [
    "with tf.device('/gpu:1'):\n",
    "    history = model.fit(X_train_processed, Y_train, batch_size=BATCH_SIZE * 4, epochs=EPOCHS,\n",
    "              validation_data=(X_validation_processed, Y_validation), class_weight= classes_weight)\n",
    "\n",
    "    score, acc = model.evaluate(X_test_processed, Y_test)\n",
    "    print('Test score:', score)\n",
    "    print('Test accuracy:', acc)\n",
    "\n",
    "    pred = model.predict(X_test_processed, verbose=1)\n",
    "\n",
    "    report(Y_test, pred, lb, history)"
   ]
  },
  {
   "cell_type": "code",
   "execution_count": null,
   "metadata": {},
   "outputs": [],
   "source": []
  }
 ],
 "metadata": {
  "kernelspec": {
   "display_name": "Python 3",
   "language": "python",
   "name": "python3"
  },
  "language_info": {
   "codemirror_mode": {
    "name": "ipython",
    "version": 3
   },
   "file_extension": ".py",
   "mimetype": "text/x-python",
   "name": "python",
   "nbconvert_exporter": "python",
   "pygments_lexer": "ipython3",
   "version": "3.7.0"
  },
  "toc": {
   "base_numbering": 1,
   "nav_menu": {
    "height": "498px",
    "width": "383px"
   },
   "number_sections": false,
   "sideBar": true,
   "skip_h1_title": false,
   "title_cell": "Table of Contents",
   "title_sidebar": "Contents",
   "toc_cell": false,
   "toc_position": {
    "height": "calc(100% - 180px)",
    "left": "10px",
    "top": "150px",
    "width": "252px"
   },
   "toc_section_display": true,
   "toc_window_display": true
  }
 },
 "nbformat": 4,
 "nbformat_minor": 2
}
